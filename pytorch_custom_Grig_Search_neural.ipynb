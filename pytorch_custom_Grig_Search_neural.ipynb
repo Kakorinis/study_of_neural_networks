{
  "nbformat": 4,
  "nbformat_minor": 0,
  "metadata": {
    "colab": {
      "provenance": []
    },
    "kernelspec": {
      "name": "python3",
      "display_name": "Python 3"
    },
    "language_info": {
      "name": "python"
    },
    "gpuClass": "premium",
    "accelerator": "GPU",
    "widgets": {
      "application/vnd.jupyter.widget-state+json": {
        "a718171716a04206b1616b57c2ec9fcc": {
          "model_module": "@jupyter-widgets/controls",
          "model_name": "HBoxModel",
          "model_module_version": "1.5.0",
          "state": {
            "_dom_classes": [],
            "_model_module": "@jupyter-widgets/controls",
            "_model_module_version": "1.5.0",
            "_model_name": "HBoxModel",
            "_view_count": null,
            "_view_module": "@jupyter-widgets/controls",
            "_view_module_version": "1.5.0",
            "_view_name": "HBoxView",
            "box_style": "",
            "children": [
              "IPY_MODEL_4811115e7d83422f9711f0da168fa4fa",
              "IPY_MODEL_38e3f78d63e8489c947099e41ce1db23",
              "IPY_MODEL_106ee245a2eb4160883ae3f905be08eb"
            ],
            "layout": "IPY_MODEL_61933035227445c6a76423e19405f375"
          }
        },
        "4811115e7d83422f9711f0da168fa4fa": {
          "model_module": "@jupyter-widgets/controls",
          "model_name": "HTMLModel",
          "model_module_version": "1.5.0",
          "state": {
            "_dom_classes": [],
            "_model_module": "@jupyter-widgets/controls",
            "_model_module_version": "1.5.0",
            "_model_name": "HTMLModel",
            "_view_count": null,
            "_view_module": "@jupyter-widgets/controls",
            "_view_module_version": "1.5.0",
            "_view_name": "HTMLView",
            "description": "",
            "description_tooltip": null,
            "layout": "IPY_MODEL_8c8b7ba8c78543fb98e94788f921b732",
            "placeholder": "​",
            "style": "IPY_MODEL_844ce673fe2346dab5b291cfef759448",
            "value": "100%"
          }
        },
        "38e3f78d63e8489c947099e41ce1db23": {
          "model_module": "@jupyter-widgets/controls",
          "model_name": "FloatProgressModel",
          "model_module_version": "1.5.0",
          "state": {
            "_dom_classes": [],
            "_model_module": "@jupyter-widgets/controls",
            "_model_module_version": "1.5.0",
            "_model_name": "FloatProgressModel",
            "_view_count": null,
            "_view_module": "@jupyter-widgets/controls",
            "_view_module_version": "1.5.0",
            "_view_name": "ProgressView",
            "bar_style": "success",
            "description": "",
            "description_tooltip": null,
            "layout": "IPY_MODEL_e347a15959cc429a8de4c5a98f39ae57",
            "max": 170498071,
            "min": 0,
            "orientation": "horizontal",
            "style": "IPY_MODEL_ccf4cf1c454c4ec49cc84f2089aae56d",
            "value": 170498071
          }
        },
        "106ee245a2eb4160883ae3f905be08eb": {
          "model_module": "@jupyter-widgets/controls",
          "model_name": "HTMLModel",
          "model_module_version": "1.5.0",
          "state": {
            "_dom_classes": [],
            "_model_module": "@jupyter-widgets/controls",
            "_model_module_version": "1.5.0",
            "_model_name": "HTMLModel",
            "_view_count": null,
            "_view_module": "@jupyter-widgets/controls",
            "_view_module_version": "1.5.0",
            "_view_name": "HTMLView",
            "description": "",
            "description_tooltip": null,
            "layout": "IPY_MODEL_2618d75a94024c78a52d270095d7691b",
            "placeholder": "​",
            "style": "IPY_MODEL_2916559592e74ae4ba0e90cfb4839560",
            "value": " 170498071/170498071 [00:13&lt;00:00, 15436990.92it/s]"
          }
        },
        "61933035227445c6a76423e19405f375": {
          "model_module": "@jupyter-widgets/base",
          "model_name": "LayoutModel",
          "model_module_version": "1.2.0",
          "state": {
            "_model_module": "@jupyter-widgets/base",
            "_model_module_version": "1.2.0",
            "_model_name": "LayoutModel",
            "_view_count": null,
            "_view_module": "@jupyter-widgets/base",
            "_view_module_version": "1.2.0",
            "_view_name": "LayoutView",
            "align_content": null,
            "align_items": null,
            "align_self": null,
            "border": null,
            "bottom": null,
            "display": null,
            "flex": null,
            "flex_flow": null,
            "grid_area": null,
            "grid_auto_columns": null,
            "grid_auto_flow": null,
            "grid_auto_rows": null,
            "grid_column": null,
            "grid_gap": null,
            "grid_row": null,
            "grid_template_areas": null,
            "grid_template_columns": null,
            "grid_template_rows": null,
            "height": null,
            "justify_content": null,
            "justify_items": null,
            "left": null,
            "margin": null,
            "max_height": null,
            "max_width": null,
            "min_height": null,
            "min_width": null,
            "object_fit": null,
            "object_position": null,
            "order": null,
            "overflow": null,
            "overflow_x": null,
            "overflow_y": null,
            "padding": null,
            "right": null,
            "top": null,
            "visibility": null,
            "width": null
          }
        },
        "8c8b7ba8c78543fb98e94788f921b732": {
          "model_module": "@jupyter-widgets/base",
          "model_name": "LayoutModel",
          "model_module_version": "1.2.0",
          "state": {
            "_model_module": "@jupyter-widgets/base",
            "_model_module_version": "1.2.0",
            "_model_name": "LayoutModel",
            "_view_count": null,
            "_view_module": "@jupyter-widgets/base",
            "_view_module_version": "1.2.0",
            "_view_name": "LayoutView",
            "align_content": null,
            "align_items": null,
            "align_self": null,
            "border": null,
            "bottom": null,
            "display": null,
            "flex": null,
            "flex_flow": null,
            "grid_area": null,
            "grid_auto_columns": null,
            "grid_auto_flow": null,
            "grid_auto_rows": null,
            "grid_column": null,
            "grid_gap": null,
            "grid_row": null,
            "grid_template_areas": null,
            "grid_template_columns": null,
            "grid_template_rows": null,
            "height": null,
            "justify_content": null,
            "justify_items": null,
            "left": null,
            "margin": null,
            "max_height": null,
            "max_width": null,
            "min_height": null,
            "min_width": null,
            "object_fit": null,
            "object_position": null,
            "order": null,
            "overflow": null,
            "overflow_x": null,
            "overflow_y": null,
            "padding": null,
            "right": null,
            "top": null,
            "visibility": null,
            "width": null
          }
        },
        "844ce673fe2346dab5b291cfef759448": {
          "model_module": "@jupyter-widgets/controls",
          "model_name": "DescriptionStyleModel",
          "model_module_version": "1.5.0",
          "state": {
            "_model_module": "@jupyter-widgets/controls",
            "_model_module_version": "1.5.0",
            "_model_name": "DescriptionStyleModel",
            "_view_count": null,
            "_view_module": "@jupyter-widgets/base",
            "_view_module_version": "1.2.0",
            "_view_name": "StyleView",
            "description_width": ""
          }
        },
        "e347a15959cc429a8de4c5a98f39ae57": {
          "model_module": "@jupyter-widgets/base",
          "model_name": "LayoutModel",
          "model_module_version": "1.2.0",
          "state": {
            "_model_module": "@jupyter-widgets/base",
            "_model_module_version": "1.2.0",
            "_model_name": "LayoutModel",
            "_view_count": null,
            "_view_module": "@jupyter-widgets/base",
            "_view_module_version": "1.2.0",
            "_view_name": "LayoutView",
            "align_content": null,
            "align_items": null,
            "align_self": null,
            "border": null,
            "bottom": null,
            "display": null,
            "flex": null,
            "flex_flow": null,
            "grid_area": null,
            "grid_auto_columns": null,
            "grid_auto_flow": null,
            "grid_auto_rows": null,
            "grid_column": null,
            "grid_gap": null,
            "grid_row": null,
            "grid_template_areas": null,
            "grid_template_columns": null,
            "grid_template_rows": null,
            "height": null,
            "justify_content": null,
            "justify_items": null,
            "left": null,
            "margin": null,
            "max_height": null,
            "max_width": null,
            "min_height": null,
            "min_width": null,
            "object_fit": null,
            "object_position": null,
            "order": null,
            "overflow": null,
            "overflow_x": null,
            "overflow_y": null,
            "padding": null,
            "right": null,
            "top": null,
            "visibility": null,
            "width": null
          }
        },
        "ccf4cf1c454c4ec49cc84f2089aae56d": {
          "model_module": "@jupyter-widgets/controls",
          "model_name": "ProgressStyleModel",
          "model_module_version": "1.5.0",
          "state": {
            "_model_module": "@jupyter-widgets/controls",
            "_model_module_version": "1.5.0",
            "_model_name": "ProgressStyleModel",
            "_view_count": null,
            "_view_module": "@jupyter-widgets/base",
            "_view_module_version": "1.2.0",
            "_view_name": "StyleView",
            "bar_color": null,
            "description_width": ""
          }
        },
        "2618d75a94024c78a52d270095d7691b": {
          "model_module": "@jupyter-widgets/base",
          "model_name": "LayoutModel",
          "model_module_version": "1.2.0",
          "state": {
            "_model_module": "@jupyter-widgets/base",
            "_model_module_version": "1.2.0",
            "_model_name": "LayoutModel",
            "_view_count": null,
            "_view_module": "@jupyter-widgets/base",
            "_view_module_version": "1.2.0",
            "_view_name": "LayoutView",
            "align_content": null,
            "align_items": null,
            "align_self": null,
            "border": null,
            "bottom": null,
            "display": null,
            "flex": null,
            "flex_flow": null,
            "grid_area": null,
            "grid_auto_columns": null,
            "grid_auto_flow": null,
            "grid_auto_rows": null,
            "grid_column": null,
            "grid_gap": null,
            "grid_row": null,
            "grid_template_areas": null,
            "grid_template_columns": null,
            "grid_template_rows": null,
            "height": null,
            "justify_content": null,
            "justify_items": null,
            "left": null,
            "margin": null,
            "max_height": null,
            "max_width": null,
            "min_height": null,
            "min_width": null,
            "object_fit": null,
            "object_position": null,
            "order": null,
            "overflow": null,
            "overflow_x": null,
            "overflow_y": null,
            "padding": null,
            "right": null,
            "top": null,
            "visibility": null,
            "width": null
          }
        },
        "2916559592e74ae4ba0e90cfb4839560": {
          "model_module": "@jupyter-widgets/controls",
          "model_name": "DescriptionStyleModel",
          "model_module_version": "1.5.0",
          "state": {
            "_model_module": "@jupyter-widgets/controls",
            "_model_module_version": "1.5.0",
            "_model_name": "DescriptionStyleModel",
            "_view_count": null,
            "_view_module": "@jupyter-widgets/base",
            "_view_module_version": "1.2.0",
            "_view_name": "StyleView",
            "description_width": ""
          }
        }
      }
    }
  },
  "cells": [
    {
      "cell_type": "markdown",
      "source": [
        "1. Добиться хорошего результата от модели, собранной на занятии (5 угаданныx картинок из 8 предложенных). Варианты изменений:<br>\n",
        "изменение слоёв и их количества;<br>\n",
        "изменение метода оптимизации;<br>\n",
        "изменение процесса обучения;<br>\n",
        "*преобразование данных transform<br>\n",
        "2.*Переписать данный туториал на PyTorch: https://www.tensorflow.org/tutorials/quickstart/beginner?hl=ru"
      ],
      "metadata": {
        "id": "EG2W3WNsZb6A"
      }
    },
    {
      "cell_type": "code",
      "source": [
        "import numpy as np\n",
        "import pandas as pd\n",
        "\n",
        "import torch\n",
        "from torch import optim\n",
        "import torchvision\n",
        "import torchvision.transforms as transforms\n",
        "import torch.nn.functional as F\n",
        "from torch import nn\n",
        "\n",
        "import matplotlib.pyplot as plt\n",
        "\n",
        "from google.colab import files"
      ],
      "metadata": {
        "id": "74RBhHvaa4hZ"
      },
      "execution_count": 1,
      "outputs": []
    },
    {
      "cell_type": "code",
      "source": [
        "from google.colab import drive\n",
        "drive.mount('/content/drive')"
      ],
      "metadata": {
        "id": "kJcL2mfTiQD1",
        "colab": {
          "base_uri": "https://localhost:8080/"
        },
        "outputId": "dfeae16d-9163-4e18-b17f-0f1e5af449bd"
      },
      "execution_count": 2,
      "outputs": [
        {
          "output_type": "stream",
          "name": "stdout",
          "text": [
            "Mounted at /content/drive\n"
          ]
        }
      ]
    },
    {
      "cell_type": "markdown",
      "source": [
        "__Ниже перепишу часть кода с урока и непосредственно саму модель, которую нужно улучшить:__"
      ],
      "metadata": {
        "id": "z8qfM-NMTEgg"
      }
    },
    {
      "cell_type": "code",
      "source": [
        "# ЗАГРУЗКА ТРЕЙНА И ТЕСТА\n",
        "train_dataset = torchvision.datasets.CIFAR10(root='data/',\n",
        "                                             train=True,  # можно таким же образом скачать тестовую часть\n",
        "                                             transform=transforms.ToTensor(), #чтобы сразу преобразовывалось в корректный тип и тут нормировка происходит сразу \n",
        "                                             download=True)\n",
        "\n",
        "test_dataset = torchvision.datasets.CIFAR10(root='./data', train=False,\n",
        "                                            download=True, transform=transforms.ToTensor())\n",
        "\n",
        "\n",
        "image, label = train_dataset[0]\n",
        "print(image.size())\n",
        "print(label)"
      ],
      "metadata": {
        "id": "tFOgzIysbHR1",
        "colab": {
          "base_uri": "https://localhost:8080/",
          "height": 136,
          "referenced_widgets": [
            "a718171716a04206b1616b57c2ec9fcc",
            "4811115e7d83422f9711f0da168fa4fa",
            "38e3f78d63e8489c947099e41ce1db23",
            "106ee245a2eb4160883ae3f905be08eb",
            "61933035227445c6a76423e19405f375",
            "8c8b7ba8c78543fb98e94788f921b732",
            "844ce673fe2346dab5b291cfef759448",
            "e347a15959cc429a8de4c5a98f39ae57",
            "ccf4cf1c454c4ec49cc84f2089aae56d",
            "2618d75a94024c78a52d270095d7691b",
            "2916559592e74ae4ba0e90cfb4839560"
          ]
        },
        "outputId": "14d2266b-ee44-4d8a-f7ea-c27099dab39a"
      },
      "execution_count": 3,
      "outputs": [
        {
          "output_type": "stream",
          "name": "stdout",
          "text": [
            "Downloading https://www.cs.toronto.edu/~kriz/cifar-10-python.tar.gz to data/cifar-10-python.tar.gz\n"
          ]
        },
        {
          "output_type": "display_data",
          "data": {
            "text/plain": [
              "  0%|          | 0/170498071 [00:00<?, ?it/s]"
            ],
            "application/vnd.jupyter.widget-view+json": {
              "version_major": 2,
              "version_minor": 0,
              "model_id": "a718171716a04206b1616b57c2ec9fcc"
            }
          },
          "metadata": {}
        },
        {
          "output_type": "stream",
          "name": "stdout",
          "text": [
            "Extracting data/cifar-10-python.tar.gz to data/\n",
            "Files already downloaded and verified\n",
            "torch.Size([3, 32, 32])\n",
            "6\n"
          ]
        }
      ]
    },
    {
      "cell_type": "code",
      "source": [
        "# plt требует классического вида shape, потому преобразовали через пермут\n",
        "\n",
        "plt.imshow(image.permute(1, 2, 0).numpy()); # 1 2 0 - это индексы изначальноых параметров image"
      ],
      "metadata": {
        "id": "45VL9lb6bf9E",
        "colab": {
          "base_uri": "https://localhost:8080/",
          "height": 266
        },
        "outputId": "597b788c-90f3-4df3-8449-9c50685f89d4"
      },
      "execution_count": 4,
      "outputs": [
        {
          "output_type": "display_data",
          "data": {
            "text/plain": [
              "<Figure size 432x288 with 1 Axes>"
            ],
            "image/png": "[encoded data removed]"
          },
          "metadata": {
            "needs_background": "light"
          }
        }
      ]
    },
    {
      "cell_type": "code",
      "source": [
        "# НАСТРОЙКА ПОДАЧИ КАРТИНОК С ТЕСТА  ТРЕЙНА В DataLoader\n",
        "train_loader = torch.utils.data.DataLoader(dataset=train_dataset,\n",
        "                                           batch_size=64, # какой кусок объектов выдавать. 64 картинки\n",
        "                                           shuffle=True)\n",
        "\n",
        "test_loader = torch.utils.data.DataLoader(test_dataset, batch_size=8,\n",
        "                                          shuffle=False)"
      ],
      "metadata": {
        "id": "-5nsgoGWb0E0"
      },
      "execution_count": 5,
      "outputs": []
    },
    {
      "cell_type": "code",
      "source": [
        "# НАЗВАНИЯ КЛАССОВ ДАТАСЕТА - ВСЕГО 10 КЛАССОВ\n",
        "classes = ('plane', 'car', 'bird', 'cat',\n",
        "           'deer', 'dog', 'frog', 'horse', 'ship', 'truck')"
      ],
      "metadata": {
        "id": "8ABSsgWscCHZ"
      },
      "execution_count": 6,
      "outputs": []
    },
    {
      "cell_type": "code",
      "source": [
        "# МОДЕЛЬ С УРОКА\n",
        "class Net(nn.Module):\n",
        "    def __init__(self, input_dim, hidden_dim, output_dim):\n",
        "        super().__init__()\n",
        "        self.fc1 = nn.Linear(input_dim, 4 * hidden_dim)     # инициализиурем 4 слоя\n",
        "        self.fc2 = nn.Linear(4 * hidden_dim, 2 * hidden_dim)\n",
        "        self.fc3 = nn.Linear(2 * hidden_dim, hidden_dim)\n",
        "        self.fc4 = nn.Linear(hidden_dim, output_dim)\n",
        "\n",
        "    def forward(self, x):\n",
        "        x = x.view(x.shape[0], -1) # вытягиваем в одномерный вектор - аналог flatten\n",
        "        x = self.fc1(x)      # прононяем по первому слою\n",
        "        x = F.leaky_relu(x)  # применяем функцию активации лики релу\n",
        "        x = self.fc2(x)\n",
        "        x = F.leaky_relu(x)\n",
        "        x = self.fc3(x)\n",
        "        x = F.leaky_relu(x)\n",
        "        x = self.fc4(x)      # на четвертом слое не сделали ф-цию активации, тут многоклассовость и д.б. софт макс, мы ее в предсказании сделаем\n",
        "        return x             # в прямом проходе всегда следует останавливаться на том, что идет в ф-цию активации в конце и не писать ее,т.к. ф-ции потерь считаются в торче\n",
        "                             # на логитах, а логиты это то что идет в ф-цию активации\n",
        "    \n",
        "    def predict(self, x):            # тот же форвард, но с софтмаксов на конце (выделяет 1 класс из логитов)\n",
        "        x = x.view(x.shape[0], -1)\n",
        "        x = self.fc1(x)\n",
        "        x = F.leaky_relu(x)\n",
        "        x = self.fc2(x) \n",
        "        x = F.leaky_relu(x)\n",
        "        x = self.fc3(x)\n",
        "        x = F.leaky_relu(x)\n",
        "        x = self.fc4(x)\n",
        "        x = F.softmax(x)\n",
        "        return x\n",
        "\n",
        "\n",
        "net = Net(3072, 100, 10)  # 3072 это кол-во каналов при входе усноженное на размерность картинки: 3 * 32 * 32\n",
        "net.train()\n",
        "\n",
        "criterion = nn.CrossEntropyLoss()  # ф-ция потерь в торче использует именно логиты. получается что с forward поступают логиты и она их считывает, поэтому нет в конце активации выше\n",
        "optimizer = optim.SGD(net.parameters(), lr=0.01, momentum=0.0) # net.parameters() это мы так указываем подгружая параметры модели\n",
        "\n",
        "num_epochs = 5\n",
        "\n",
        "for epoch in range(num_epochs):\n",
        "    running_loss = 0.0\n",
        "    running_items = 0.0\n",
        "\n",
        "\n",
        "    for i, data in enumerate(train_loader):\n",
        "        inputs, labels = data[0], data[1]\n",
        "\n",
        "         # Обнуляем градиент\n",
        "        optimizer.zero_grad()\n",
        "        # Делаем предсказание\n",
        "        outputs = net(inputs)\n",
        "        # Рассчитываем лосс-функцию\n",
        "        loss = criterion(outputs, labels)\n",
        "        # Делаем шаг назад по лоссу\n",
        "        loss.backward()\n",
        "        # Делаем шаг нашего оптимайзера\n",
        "        optimizer.step()\n",
        "\n",
        "        # выводим статистику о процессе обучения\n",
        "        running_loss += loss.item()\n",
        "        running_items += len(labels)\n",
        "        if i % 300 == 0:    # печатаем каждые 300 mini-batches\n",
        "            print(f'Epoch [{epoch + 1}/{num_epochs}]. ' \\\n",
        "                  f'Step [{i + 1}/{len(train_loader)}]. ' \\\n",
        "                  f'Loss: {running_loss / running_items:.3f}')\n",
        "            running_loss, running_items = 0.0, 0.0\n",
        "\n",
        "print('Training is finished!')"
      ],
      "metadata": {
        "id": "0Uy2pLcdTm64",
        "colab": {
          "base_uri": "https://localhost:8080/"
        },
        "outputId": "1c07d859-c98b-4319-e0d5-a1364a16ae9b"
      },
      "execution_count": 7,
      "outputs": [
        {
          "output_type": "stream",
          "name": "stdout",
          "text": [
            "Epoch [1/5]. Step [1/782]. Loss: 0.036\n",
            "Epoch [1/5]. Step [301/782]. Loss: 0.036\n",
            "Epoch [1/5]. Step [601/782]. Loss: 0.035\n",
            "Epoch [2/5]. Step [1/782]. Loss: 0.034\n",
            "Epoch [2/5]. Step [301/782]. Loss: 0.032\n",
            "Epoch [2/5]. Step [601/782]. Loss: 0.031\n",
            "Epoch [3/5]. Step [1/782]. Loss: 0.029\n",
            "Epoch [3/5]. Step [301/782]. Loss: 0.030\n",
            "Epoch [3/5]. Step [601/782]. Loss: 0.030\n",
            "Epoch [4/5]. Step [1/782]. Loss: 0.027\n",
            "Epoch [4/5]. Step [301/782]. Loss: 0.029\n",
            "Epoch [4/5]. Step [601/782]. Loss: 0.029\n",
            "Epoch [5/5]. Step [1/782]. Loss: 0.028\n",
            "Epoch [5/5]. Step [301/782]. Loss: 0.028\n",
            "Epoch [5/5]. Step [601/782]. Loss: 0.028\n",
            "Training is finished!\n"
          ]
        }
      ]
    },
    {
      "cell_type": "code",
      "source": [
        "# ДАЛЕЕ КАЧЕСТВО РАБОТЫ МОДЕЛИ -СМОТРИМ МЕТРИКУ И ПРЕДМЕСТНО КАК УГАДЫВАЕТ КАРТИНКИ\n",
        "data_iter = iter(test_loader)\n",
        "images, labels = next(data_iter)"
      ],
      "metadata": {
        "id": "recHw65MUKwr"
      },
      "execution_count": 8,
      "outputs": []
    },
    {
      "cell_type": "code",
      "source": [
        "net.eval()\n",
        "outputs = net(images)  # говорит что net(images) это равнозначно net.forward(images) типа можно упрощать \n",
        "imgs = torchvision.utils.make_grid(images)\n",
        "plt.figure(figsize=(10, 5))\n",
        "plt.imshow(imgs.permute(1, 2, 0).numpy())\n",
        "print('GroundTruth: ', ' '.join(classes[labels[j]] for j in range(len(labels))))"
      ],
      "metadata": {
        "id": "ZvAnEHLXUUvl",
        "colab": {
          "base_uri": "https://localhost:8080/",
          "height": 141
        },
        "outputId": "821da416-4264-425e-f8cf-2c30439ec822"
      },
      "execution_count": 9,
      "outputs": [
        {
          "output_type": "stream",
          "name": "stdout",
          "text": [
            "GroundTruth:  cat ship ship plane frog frog car frog\n"
          ]
        },
        {
          "output_type": "display_data",
          "data": {
            "text/plain": [
              "<Figure size 720x360 with 1 Axes>"
            ],
            "image/png": "[encoded data removed]"
          },
          "metadata": {
            "needs_background": "light"
          }
        }
      ]
    },
    {
      "cell_type": "code",
      "source": [
        "_, predicted = torch.max(outputs, 1)\n",
        "\n",
        "predicted"
      ],
      "metadata": {
        "id": "bngpJBfkUarQ",
        "colab": {
          "base_uri": "https://localhost:8080/"
        },
        "outputId": "f6280c6e-80c2-4baf-cb04-a1c84be22375"
      },
      "execution_count": 10,
      "outputs": [
        {
          "output_type": "execute_result",
          "data": {
            "text/plain": [
              "tensor([5, 9, 8, 8, 4, 6, 5, 4])"
            ]
          },
          "metadata": {},
          "execution_count": 10
        }
      ]
    },
    {
      "cell_type": "code",
      "source": [
        "gt = np.array([classes[labels[j]] for j in range(len(labels))])\n",
        "pred = np.array([classes[predicted[j]] for j in range(len(labels))])\n",
        "\n",
        "print(gt)\n",
        "print(pred)\n",
        "print(f'Accuracy is {(gt == pred).sum() / len(gt)}')"
      ],
      "metadata": {
        "id": "ihtbF_F4Ue4b",
        "colab": {
          "base_uri": "https://localhost:8080/"
        },
        "outputId": "5ad42106-dae2-417f-a6d6-1cc323611a3c"
      },
      "execution_count": 11,
      "outputs": [
        {
          "output_type": "stream",
          "name": "stdout",
          "text": [
            "['cat' 'ship' 'ship' 'plane' 'frog' 'frog' 'car' 'frog']\n",
            "['dog' 'truck' 'ship' 'ship' 'deer' 'frog' 'dog' 'deer']\n",
            "Accuracy is 0.25\n"
          ]
        }
      ]
    },
    {
      "cell_type": "markdown",
      "source": [
        "__РЕШЕНИЕ:__<br>\n",
        "Cначала проверяем предоставляет ли в данный момент колаб возможность использования GPU.\n",
        "<br>\n",
        "\n",
        "если да, то в цикле ниже и модель и все inputs, labels (трейн и предсказание)нужно положить на GPU через метод .to_device(device)\n",
        "\n",
        "На этапе выполнения 72 итераций ниже я подключил себе версию про на колабе и имел доступ к видеокарте НВИДИА с 40гб. памяти, в гугл колабе на странице данной работы в рантайме включил GPU и потом на gpu клал саму тестируемую модель нейросети и inputs & labels (все входы в нее), однако на скорость обучения это не повлияло - увидим ниже."
      ],
      "metadata": {
        "id": "ekweG6rzFUIs"
      }
    },
    {
      "cell_type": "code",
      "source": [
        "print(f\"Поддерживается ли CUDA : {torch.cuda.is_available()}\")\n",
        "print(f'Количество гпу девайсов: {torch.cuda.device_count()}')\n",
        "print(f\"Характеристики видеокарты : {torch.cuda.get_device_properties(0)}\")\n",
        "print(f\"Удаляем всю незанятую память через torch.cuda.empty_cache()\")"
      ],
      "metadata": {
        "id": "5m9b3se7FTH5",
        "colab": {
          "base_uri": "https://localhost:8080/"
        },
        "outputId": "0329323f-5c98-4a03-d563-a92a4456a33f"
      },
      "execution_count": 12,
      "outputs": [
        {
          "output_type": "stream",
          "name": "stdout",
          "text": [
            "Поддерживается ли CUDA : True\n",
            "Количество гпу девайсов: 1\n",
            "Характеристики видеокарты : _CudaDeviceProperties(name='NVIDIA A100-SXM4-40GB', major=8, minor=0, total_memory=40513MB, multi_processor_count=108)\n",
            "Удаляем всю незанятую память через torch.cuda.empty_cache()\n"
          ]
        }
      ]
    },
    {
      "cell_type": "code",
      "source": [
        "device = torch.device(\"cuda:0\" if torch.cuda.is_available() else \"cpu\")"
      ],
      "metadata": {
        "id": "b7DdEfdSGMqN"
      },
      "execution_count": 13,
      "outputs": []
    },
    {
      "cell_type": "code",
      "source": [
        "device"
      ],
      "metadata": {
        "colab": {
          "base_uri": "https://localhost:8080/"
        },
        "id": "5SiqTek0d8zy",
        "outputId": "9e6afabc-9df8-456b-a898-652375c76808"
      },
      "execution_count": 16,
      "outputs": [
        {
          "output_type": "execute_result",
          "data": {
            "text/plain": [
              "device(type='cuda', index=0)"
            ]
          },
          "metadata": {},
          "execution_count": 16
        }
      ]
    },
    {
      "cell_type": "markdown",
      "source": [
        "__Я решил одновременно прогонять по циклу и смотреть качество работы моделей по следующим параметрам:__\n",
        "* кол-во скрытых слоев нейросети (для этого ниже настроил универсальный способ создания сети),\n",
        "* кол-во нейронов,\n",
        "* кол-во эпох обучения каждой сети,\n",
        "* скорость обучения оптимизатора."
      ],
      "metadata": {
        "id": "1yxwSQY4Wg6Q"
      }
    },
    {
      "cell_type": "code",
      "source": [
        "# МОЯ ХИТРО НАПИСАННАЯ МОДЕЛЬ С ВОЗМОЖНОСТЬЮ АВТОМАТИЧЕСКОГО СОЗДАНИЯ СКРЫТЫХ СЛОЕВ СКОЛЬКО ХОЧЕШЬ \n",
        "class My_Net(nn.Module):\n",
        "    def __init__(self, input_dim, hidden_dim, output_dim, n_layers=3):\n",
        "        super().__init__()\n",
        "        self.n_layers = n_layers\n",
        "        self.layers = nn.ModuleList()\n",
        "        \n",
        "        # ниже примерная логика как можно изменять кол-во нейронов от слоя к слою, чтобы выходные из предыдущего равнялись кол-ву входных следующего слоя\n",
        "        self.layers.append(nn.Linear(input_dim, (2 ** (n_layers - 2)) * hidden_dim)) # первый слой вне цикла, т.к. инпуты тут фиксированные, а в цикле будем подбирать\n",
        "        for i in range(1, n_layers - 1): #  ВООБЩЕ ХОТЕЛОСЬ БЫ чтобы  n_layers отображал именно кол-во скрытых слоев, а не всего слоев\n",
        "          self.layers.append(nn.Linear((2 ** (n_layers - i - 1)) * hidden_dim, (2 ** (n_layers - i - 2)) * hidden_dim))\n",
        "        self.layers.append(nn.Linear(hidden_dim, output_dim))\n",
        "\n",
        "    def forward(self, x):\n",
        "        x = x.view(x.shape[0], -1)         # вытягиваем в одномерный вектор - аналог flatten\n",
        "        for layer in self.layers[:-1]: # последний не берем, т.к. для него не нужна активация\n",
        "          x = layer(x)             # прононяем по слою\n",
        "          x = F.leaky_relu(x)      # применяем функцию активации лики релу\n",
        "        x = self.layers[-1](x)\n",
        "        return x\n",
        "  \n"
      ],
      "metadata": {
        "id": "weKfr7OxArLy"
      },
      "execution_count": 14,
      "outputs": []
    },
    {
      "cell_type": "markdown",
      "source": [
        "__Далее будет долгий цикл и чтобы колаб не спрашивал подверждения что я работ при ожидании обучения нейросети в не активном режиме (я ушел от компа), настроил кликер в javascript браузера (в консоли инспектора)__\n",
        "\n",
        "<br>\n",
        "Steps <br>\n",
        "    Сначала создать пустую строку ввода кода - туда нажать курсор и далее по схеме:<br>\n",
        "    Open the inspector view by typing Ctrl+ Shift + i and then clicking on console tab at top.\n",
        "    Paste the below code snippet at bottom of console and hit enter\n",
        "\n",
        "\n",
        "```\n",
        "function ClickConnect(){\n",
        "console.log(\"Working\"); \n",
        "document.querySelector(\"#top-toolbar > colab-connect-button\").shadowRoot.querySelector(\"#connect\").click();\n",
        "}\n",
        "setInterval(ClickConnect,60000)\n",
        "```\n",
        "\n"
      ],
      "metadata": {
        "id": "RfTBJPTUZ1gy"
      }
    },
    {
      "cell_type": "markdown",
      "source": [
        "__Ниже идет тот самый долгий цикл, где я перебираю каждую модель и после последней эпохи записываю параметры, в т.ч. время обучения в секундах. Решил проблему обнуления весов у одной и той же модели, но где перебирается разное кол-во эпох. Все вроде бы корректно.__\n",
        "\n",
        "<br>\n",
        "\n",
        "__Примечание по рассчету кросс-энтропии:__ Похоже что, встроенная функция расчитыват усредненный лосс на батче. Поэтому надо в конце эпохи делить аккумулятивный лосс на количество батчей, а не на количество картинок. Именно поэтому лоссы на тесте и на трейне на порядок не сходились в методичке"
      ],
      "metadata": {
        "id": "rbXgtx5lXpcE"
      }
    },
    {
      "cell_type": "code",
      "source": [
        "import time \n",
        "\n",
        "criterion = nn.CrossEntropyLoss()  \n",
        "\n",
        "num_layers = range(3, 7) # мой класс нейросети Net написан так, что число отсюда это кол-во всего слоев, чтобы увидеть именно число скрытых слоев, нужно отнять 2 (входной, выходной)\n",
        "n_dims = [10, 30, 50] # в модели нейросети на разных слоях кол-во нейронов будет исчисляться путем умножения взятого числа из n_dims на число от 2 до 8\n",
        "num_epochs = [5,10,20]\n",
        "lr_rate = [0.0001, 0.001]\n",
        "\n",
        "# сюда буду записывать параметры каждой модели\n",
        "results = pd.DataFrame(columns=['hidden dim', 'learning rate','epochs', 'time (sec)','train loss','test loss', 'train acc', 'test acc'])\n",
        "\n",
        "count = 1\n",
        "for l in num_layers:\n",
        "  for dim in n_dims:\n",
        "    torch.cuda.empty_cache()\n",
        "    net_to_examine = Net(input_dim=3072, hidden_dim=dim, output_dim=10, n_layers=l).to(device)  # 3072 размерность картинки * входы: 32*32*3, а 10 - кол-во классов\n",
        "\n",
        "    for rate in lr_rate:\n",
        "      optimizer = optim.Adam(net_to_examine.parameters(), lr=rate)\n",
        "\n",
        "      for n in num_epochs:\n",
        "        start = time.time() # буду сравнивать время обучения каждой модели\n",
        "\n",
        "        # включаем обучение\n",
        "        net_to_examine.train()\n",
        "\n",
        "        for epoch in range(n):\n",
        "            running_loss = 0.0\n",
        "            running_items = 0.0\n",
        "            running_loss_test = 0.0\n",
        "            running_items_test = 0.0\n",
        "            running_right = 0.0\n",
        "            running_right_test = 0.0\n",
        "\n",
        "            #net_to_examine.train() сли тут, то последние веса прошлой модели идут в первую эпоху следующей модели\n",
        "            for i, data in enumerate(train_loader):\n",
        "                \n",
        "                inputs, labels = data[0].to(device), data[1].to(device)\n",
        "\n",
        "                # Обнуляем градиент внутри каждой эпохи итерируемых эпох 1 модели\n",
        "                optimizer.zero_grad()\n",
        "                # Делаем предсказание\n",
        "                outputs = net_to_examine(inputs)\n",
        "                # Рассчитываем лосс-функцию\n",
        "                loss = criterion(outputs, labels)\n",
        "                # Делаем шаг назад по лоссу\n",
        "                loss.backward()\n",
        "                # Делаем шаг нашего оптимайзера\n",
        "                optimizer.step()\n",
        "\n",
        "                # выводим статистику о процессе обучения\n",
        "                running_loss += loss.item()\n",
        "                running_items += len(labels)\n",
        "                running_right += (labels == torch.max(outputs, 1)[1]).sum()\n",
        "\n",
        "            running_right = running_right.item()\n",
        "            train_loss = running_loss / i\n",
        "            train_acc = running_right / running_items\n",
        "            print(f'Epoch [{epoch + 1}/{n}]. ' \\\n",
        "                  f'Loss_train: {train_loss:.4f}. ' \\\n",
        "                  f'Acc: {train_acc:.4f}.', end=' ')\n",
        "            \n",
        "\n",
        "            net_to_examine.eval()\n",
        "            for i, data in enumerate(test_loader):\n",
        "                inputs, labels = data[0].to(device), data[1].to(device)\n",
        "                # Делаем предсказание\n",
        "                outputs = net_to_examine(inputs)\n",
        "                # Рассчитываем лосс-функцию\n",
        "                loss = criterion(outputs, labels)\n",
        "\n",
        "                running_loss_test += loss.item()\n",
        "                running_items_test += len(labels)\n",
        "                running_right_test += (labels == torch.max(outputs, 1)[1]).sum()\n",
        "\n",
        "            running_right_test = running_right_test.item()\n",
        "            test_loss = running_loss_test / i\n",
        "            test_acc = running_right_test / running_items_test\n",
        "            print(f'Loss_test: {test_loss:.4f}. ' \\\n",
        "                  f'Acc_test: {test_acc:.4f}')\n",
        "\n",
        "\n",
        "            # итерация одной модели со всеми проверяемыми параметрами заканчивается после отработки последней эпохи и именно тут записыываем скор и считаем время\n",
        "            if (epoch +1) == n:\n",
        "              end = time.time() - start\n",
        "              results = results.append({'hidden layers': l-2,  # считать буду только скрытые слои, т.к. именно эта инф. полезна - зачем учитывать входной и выходной слой\n",
        "                              'hidden dim': dim,\n",
        "                              'learning rate': rate,\n",
        "                              'epochs': n,\n",
        "                              'time (sec)': int(end),\n",
        "                              'train loss': train_loss,\n",
        "                              'test loss': test_loss,\n",
        "                              'train acc': train_acc, \n",
        "                              'test acc': test_acc}, ignore_index=True)\n",
        "              \n",
        "              # чтобы понимать сколько еще осталось ждать до окончания цикла\n",
        "              print(f'Завершилось обучение модели № {count} из {len(n_dims)*len(num_epochs)*len(lr_rate)*len(num_layers)}\\n')\n",
        "              count += 1\n",
        "\n",
        "              if count % 24 == 0:\n",
        "                results.to_csv(f'Grid_Search_result 1 - {count}.csv', index = False)\n",
        "                files.download('Grid_Search_result 1 - {count}.csv')\n",
        "\n",
        "              #перезаписывая модель заново таким образом обнуляю веса с последней эпохи  перед включением трейна обратно\n",
        "              net_to_examine = Net(input_dim=3072, hidden_dim=dim, output_dim=10, n_layers=l).to(device)\n",
        "              optimizer = optim.Adam(net_to_examine.parameters(), lr=rate)\n",
        "\n",
        "            # независимо последняя эпоха или нет, после каждой эпохи обнуляем значения для подсчета метрик\n",
        "            running_loss_test, running_items_test, running_right_test = 0.0, 0.0, 0.0\n",
        "            running_loss, running_items, running_right = 0.0, 0.0, 0.0\n",
        "\n",
        "\n",
        "print('Training is finished!')\n",
        "\n",
        "results.to_csv('Grid_Search_result FINAL.csv', index = False)\n",
        "files.download('Grid_Search_result FINAL.csv')"
      ],
      "metadata": {
        "id": "RUcxQje6D2cA"
      },
      "execution_count": null,
      "outputs": []
    },
    {
      "cell_type": "markdown",
      "source": [
        "__Я скачивал в цикле данные и по итогам цикла и далее я сейчас погружу весь результат работы цикла (чтобы заново не запускать цикл):__"
      ],
      "metadata": {
        "id": "ssGVeD89YKNp"
      }
    },
    {
      "cell_type": "code",
      "source": [
        "with open('/content/drive/MyDrive/PROJECTS/Grid_Search_result FINAL.csv', \"rb\") as f:\n",
        "    results = pd.read_csv(f)\n",
        "    \n",
        "results"
      ],
      "metadata": {
        "id": "8g8KvRnGBuuB",
        "colab": {
          "base_uri": "https://localhost:8080/",
          "height": 424
        },
        "outputId": "32657e57-3754-494f-cb61-80198129a94f"
      },
      "execution_count": 17,
      "outputs": [
        {
          "output_type": "execute_result",
          "data": {
            "text/plain": [
              "    hidden dim  learning rate  epochs  time (sec)  train loss  test loss  \\\n",
              "0         10.0         0.0001     5.0        66.0    1.839054   1.825286   \n",
              "1         10.0         0.0001    10.0       133.0    1.782870   1.772126   \n",
              "2         10.0         0.0001    20.0       269.0    1.686404   1.685954   \n",
              "3         10.0         0.0010     5.0        68.0    1.734362   1.753873   \n",
              "4         10.0         0.0010    10.0       137.0    1.610634   1.613919   \n",
              "..         ...            ...     ...         ...         ...        ...   \n",
              "67        50.0         0.0001    10.0       153.0    1.369244   1.449576   \n",
              "68        50.0         0.0001    20.0       301.0    1.125941   1.344195   \n",
              "69        50.0         0.0010     5.0        75.0    1.532476   1.508459   \n",
              "70        50.0         0.0010    10.0       150.0    1.368618   1.451677   \n",
              "71        50.0         0.0010    20.0       303.0    1.080132   1.422769   \n",
              "\n",
              "    train acc  test acc  hidden layers  \n",
              "0     0.34396    0.3504            1.0  \n",
              "1     0.36406    0.3561            1.0  \n",
              "2     0.40296    0.3991            1.0  \n",
              "3     0.37722    0.3667            1.0  \n",
              "4     0.42088    0.4208            1.0  \n",
              "..        ...       ...            ...  \n",
              "67    0.51078    0.4796            4.0  \n",
              "68    0.60004    0.5270            4.0  \n",
              "69    0.44944    0.4611            4.0  \n",
              "70    0.50964    0.4890            4.0  \n",
              "71    0.61016    0.5187            4.0  \n",
              "\n",
              "[72 rows x 9 columns]"
            ],
            "text/html": [
              "\n",
              "  <div id=\"df-3301dece-b550-41f3-9c25-39d28ba3ef56\">\n",
              "    <div class=\"colab-df-container\">\n",
              "      <div>\n",
              "<style scoped>\n",
              "    .dataframe tbody tr th:only-of-type {\n",
              "        vertical-align: middle;\n",
              "    }\n",
              "\n",
              "    .dataframe tbody tr th {\n",
              "        vertical-align: top;\n",
              "    }\n",
              "\n",
              "    .dataframe thead th {\n",
              "        text-align: right;\n",
              "    }\n",
              "</style>\n",
              "<table border=\"1\" class=\"dataframe\">\n",
              "  <thead>\n",
              "    <tr style=\"text-align: right;\">\n",
              "      <th></th>\n",
              "      <th>hidden dim</th>\n",
              "      <th>learning rate</th>\n",
              "      <th>epochs</th>\n",
              "      <th>time (sec)</th>\n",
              "      <th>train loss</th>\n",
              "      <th>test loss</th>\n",
              "      <th>train acc</th>\n",
              "      <th>test acc</th>\n",
              "      <th>hidden layers</th>\n",
              "    </tr>\n",
              "  </thead>\n",
              "  <tbody>\n",
              "    <tr>\n",
              "      <th>0</th>\n",
              "      <td>10.0</td>\n",
              "      <td>0.0001</td>\n",
              "      <td>5.0</td>\n",
              "      <td>66.0</td>\n",
              "      <td>1.839054</td>\n",
              "      <td>1.825286</td>\n",
              "      <td>0.34396</td>\n",
              "      <td>0.3504</td>\n",
              "      <td>1.0</td>\n",
              "    </tr>\n",
              "    <tr>\n",
              "      <th>1</th>\n",
              "      <td>10.0</td>\n",
              "      <td>0.0001</td>\n",
              "      <td>10.0</td>\n",
              "      <td>133.0</td>\n",
              "      <td>1.782870</td>\n",
              "      <td>1.772126</td>\n",
              "      <td>0.36406</td>\n",
              "      <td>0.3561</td>\n",
              "      <td>1.0</td>\n",
              "    </tr>\n",
              "    <tr>\n",
              "      <th>2</th>\n",
              "      <td>10.0</td>\n",
              "      <td>0.0001</td>\n",
              "      <td>20.0</td>\n",
              "      <td>269.0</td>\n",
              "      <td>1.686404</td>\n",
              "      <td>1.685954</td>\n",
              "      <td>0.40296</td>\n",
              "      <td>0.3991</td>\n",
              "      <td>1.0</td>\n",
              "    </tr>\n",
              "    <tr>\n",
              "      <th>3</th>\n",
              "      <td>10.0</td>\n",
              "      <td>0.0010</td>\n",
              "      <td>5.0</td>\n",
              "      <td>68.0</td>\n",
              "      <td>1.734362</td>\n",
              "      <td>1.753873</td>\n",
              "      <td>0.37722</td>\n",
              "      <td>0.3667</td>\n",
              "      <td>1.0</td>\n",
              "    </tr>\n",
              "    <tr>\n",
              "      <th>4</th>\n",
              "      <td>10.0</td>\n",
              "      <td>0.0010</td>\n",
              "      <td>10.0</td>\n",
              "      <td>137.0</td>\n",
              "      <td>1.610634</td>\n",
              "      <td>1.613919</td>\n",
              "      <td>0.42088</td>\n",
              "      <td>0.4208</td>\n",
              "      <td>1.0</td>\n",
              "    </tr>\n",
              "    <tr>\n",
              "      <th>...</th>\n",
              "      <td>...</td>\n",
              "      <td>...</td>\n",
              "      <td>...</td>\n",
              "      <td>...</td>\n",
              "      <td>...</td>\n",
              "      <td>...</td>\n",
              "      <td>...</td>\n",
              "      <td>...</td>\n",
              "      <td>...</td>\n",
              "    </tr>\n",
              "    <tr>\n",
              "      <th>67</th>\n",
              "      <td>50.0</td>\n",
              "      <td>0.0001</td>\n",
              "      <td>10.0</td>\n",
              "      <td>153.0</td>\n",
              "      <td>1.369244</td>\n",
              "      <td>1.449576</td>\n",
              "      <td>0.51078</td>\n",
              "      <td>0.4796</td>\n",
              "      <td>4.0</td>\n",
              "    </tr>\n",
              "    <tr>\n",
              "      <th>68</th>\n",
              "      <td>50.0</td>\n",
              "      <td>0.0001</td>\n",
              "      <td>20.0</td>\n",
              "      <td>301.0</td>\n",
              "      <td>1.125941</td>\n",
              "      <td>1.344195</td>\n",
              "      <td>0.60004</td>\n",
              "      <td>0.5270</td>\n",
              "      <td>4.0</td>\n",
              "    </tr>\n",
              "    <tr>\n",
              "      <th>69</th>\n",
              "      <td>50.0</td>\n",
              "      <td>0.0010</td>\n",
              "      <td>5.0</td>\n",
              "      <td>75.0</td>\n",
              "      <td>1.532476</td>\n",
              "      <td>1.508459</td>\n",
              "      <td>0.44944</td>\n",
              "      <td>0.4611</td>\n",
              "      <td>4.0</td>\n",
              "    </tr>\n",
              "    <tr>\n",
              "      <th>70</th>\n",
              "      <td>50.0</td>\n",
              "      <td>0.0010</td>\n",
              "      <td>10.0</td>\n",
              "      <td>150.0</td>\n",
              "      <td>1.368618</td>\n",
              "      <td>1.451677</td>\n",
              "      <td>0.50964</td>\n",
              "      <td>0.4890</td>\n",
              "      <td>4.0</td>\n",
              "    </tr>\n",
              "    <tr>\n",
              "      <th>71</th>\n",
              "      <td>50.0</td>\n",
              "      <td>0.0010</td>\n",
              "      <td>20.0</td>\n",
              "      <td>303.0</td>\n",
              "      <td>1.080132</td>\n",
              "      <td>1.422769</td>\n",
              "      <td>0.61016</td>\n",
              "      <td>0.5187</td>\n",
              "      <td>4.0</td>\n",
              "    </tr>\n",
              "  </tbody>\n",
              "</table>\n",
              "<p>72 rows × 9 columns</p>\n",
              "</div>\n",
              "      <button class=\"colab-df-convert\" onclick=\"convertToInteractive('df-3301dece-b550-41f3-9c25-39d28ba3ef56')\"\n",
              "              title=\"Convert this dataframe to an interactive table.\"\n",
              "              style=\"display:none;\">\n",
              "        \n",
              "  <svg xmlns=\"http://www.w3.org/2000/svg\" height=\"24px\"viewBox=\"0 0 24 24\"\n",
              "       width=\"24px\">\n",
              "    <path d=\"M0 0h24v24H0V0z\" fill=\"none\"/>\n",
              "    <path d=\"M18.56 5.44l.94 2.06.94-2.06 2.06-.94-2.06-.94-.94-2.06-.94 2.06-2.06.94zm-11 1L8.5 8.5l.94-2.06 2.06-.94-2.06-.94L8.5 2.5l-.94 2.06-2.06.94zm10 10l.94 2.06.94-2.06 2.06-.94-2.06-.94-.94-2.06-.94 2.06-2.06.94z\"/><path d=\"M17.41 7.96l-1.37-1.37c-.4-.4-.92-.59-1.43-.59-.52 0-1.04.2-1.43.59L10.3 9.45l-7.72 7.72c-.78.78-.78 2.05 0 2.83L4 21.41c.39.39.9.59 1.41.59.51 0 1.02-.2 1.41-.59l7.78-7.78 2.81-2.81c.8-.78.8-2.07 0-2.86zM5.41 20L4 18.59l7.72-7.72 1.47 1.35L5.41 20z\"/>\n",
              "  </svg>\n",
              "      </button>\n",
              "      \n",
              "  <style>\n",
              "    .colab-df-container {\n",
              "      display:flex;\n",
              "      flex-wrap:wrap;\n",
              "      gap: 12px;\n",
              "    }\n",
              "\n",
              "    .colab-df-convert {\n",
              "      background-color: #E8F0FE;\n",
              "      border: none;\n",
              "      border-radius: 50%;\n",
              "      cursor: pointer;\n",
              "      display: none;\n",
              "      fill: #1967D2;\n",
              "      height: 32px;\n",
              "      padding: 0 0 0 0;\n",
              "      width: 32px;\n",
              "    }\n",
              "\n",
              "    .colab-df-convert:hover {\n",
              "      background-color: #E2EBFA;\n",
              "      box-shadow: 0px 1px 2px rgba(60, 64, 67, 0.3), 0px 1px 3px 1px rgba(60, 64, 67, 0.15);\n",
              "      fill: #174EA6;\n",
              "    }\n",
              "\n",
              "    [theme=dark] .colab-df-convert {\n",
              "      background-color: #3B4455;\n",
              "      fill: #D2E3FC;\n",
              "    }\n",
              "\n",
              "    [theme=dark] .colab-df-convert:hover {\n",
              "      background-color: #434B5C;\n",
              "      box-shadow: 0px 1px 3px 1px rgba(0, 0, 0, 0.15);\n",
              "      filter: drop-shadow(0px 1px 2px rgba(0, 0, 0, 0.3));\n",
              "      fill: #FFFFFF;\n",
              "    }\n",
              "  </style>\n",
              "\n",
              "      <script>\n",
              "        const buttonEl =\n",
              "          document.querySelector('#df-3301dece-b550-41f3-9c25-39d28ba3ef56 button.colab-df-convert');\n",
              "        buttonEl.style.display =\n",
              "          google.colab.kernel.accessAllowed ? 'block' : 'none';\n",
              "\n",
              "        async function convertToInteractive(key) {\n",
              "          const element = document.querySelector('#df-3301dece-b550-41f3-9c25-39d28ba3ef56');\n",
              "          const dataTable =\n",
              "            await google.colab.kernel.invokeFunction('convertToInteractive',\n",
              "                                                     [key], {});\n",
              "          if (!dataTable) return;\n",
              "\n",
              "          const docLinkHtml = 'Like what you see? Visit the ' +\n",
              "            '<a target=\"_blank\" href=https://colab.research.google.com/notebooks/data_table.ipynb>data table notebook</a>'\n",
              "            + ' to learn more about interactive tables.';\n",
              "          element.innerHTML = '';\n",
              "          dataTable['output_type'] = 'display_data';\n",
              "          await google.colab.output.renderOutput(dataTable, element);\n",
              "          const docLink = document.createElement('div');\n",
              "          docLink.innerHTML = docLinkHtml;\n",
              "          element.appendChild(docLink);\n",
              "        }\n",
              "      </script>\n",
              "    </div>\n",
              "  </div>\n",
              "  "
            ]
          },
          "metadata": {},
          "execution_count": 17
        }
      ]
    },
    {
      "cell_type": "code",
      "source": [
        "# т.к. время в секундах, то хочу веревести в минуты\n",
        "results['time (sec)'] = results['time (sec)'].apply(lambda x: float(str(f'{x / 60: .2f}')))"
      ],
      "metadata": {
        "id": "Y9vZONjvY3S1"
      },
      "execution_count": 18,
      "outputs": []
    },
    {
      "cell_type": "code",
      "source": [
        "results"
      ],
      "metadata": {
        "id": "HUUtN5yQZkZZ",
        "colab": {
          "base_uri": "https://localhost:8080/",
          "height": 424
        },
        "outputId": "8cd8ab5f-9cd8-4ded-c5ae-d9fa8c95c762"
      },
      "execution_count": 19,
      "outputs": [
        {
          "output_type": "execute_result",
          "data": {
            "text/plain": [
              "    hidden dim  learning rate  epochs  time (sec)  train loss  test loss  \\\n",
              "0         10.0         0.0001     5.0        1.10    1.839054   1.825286   \n",
              "1         10.0         0.0001    10.0        2.22    1.782870   1.772126   \n",
              "2         10.0         0.0001    20.0        4.48    1.686404   1.685954   \n",
              "3         10.0         0.0010     5.0        1.13    1.734362   1.753873   \n",
              "4         10.0         0.0010    10.0        2.28    1.610634   1.613919   \n",
              "..         ...            ...     ...         ...         ...        ...   \n",
              "67        50.0         0.0001    10.0        2.55    1.369244   1.449576   \n",
              "68        50.0         0.0001    20.0        5.02    1.125941   1.344195   \n",
              "69        50.0         0.0010     5.0        1.25    1.532476   1.508459   \n",
              "70        50.0         0.0010    10.0        2.50    1.368618   1.451677   \n",
              "71        50.0         0.0010    20.0        5.05    1.080132   1.422769   \n",
              "\n",
              "    train acc  test acc  hidden layers  \n",
              "0     0.34396    0.3504            1.0  \n",
              "1     0.36406    0.3561            1.0  \n",
              "2     0.40296    0.3991            1.0  \n",
              "3     0.37722    0.3667            1.0  \n",
              "4     0.42088    0.4208            1.0  \n",
              "..        ...       ...            ...  \n",
              "67    0.51078    0.4796            4.0  \n",
              "68    0.60004    0.5270            4.0  \n",
              "69    0.44944    0.4611            4.0  \n",
              "70    0.50964    0.4890            4.0  \n",
              "71    0.61016    0.5187            4.0  \n",
              "\n",
              "[72 rows x 9 columns]"
            ],
            "text/html": [
              "\n",
              "  <div id=\"df-199763df-8ca8-48d6-9255-113db7a94b08\">\n",
              "    <div class=\"colab-df-container\">\n",
              "      <div>\n",
              "<style scoped>\n",
              "    .dataframe tbody tr th:only-of-type {\n",
              "        vertical-align: middle;\n",
              "    }\n",
              "\n",
              "    .dataframe tbody tr th {\n",
              "        vertical-align: top;\n",
              "    }\n",
              "\n",
              "    .dataframe thead th {\n",
              "        text-align: right;\n",
              "    }\n",
              "</style>\n",
              "<table border=\"1\" class=\"dataframe\">\n",
              "  <thead>\n",
              "    <tr style=\"text-align: right;\">\n",
              "      <th></th>\n",
              "      <th>hidden dim</th>\n",
              "      <th>learning rate</th>\n",
              "      <th>epochs</th>\n",
              "      <th>time (sec)</th>\n",
              "      <th>train loss</th>\n",
              "      <th>test loss</th>\n",
              "      <th>train acc</th>\n",
              "      <th>test acc</th>\n",
              "      <th>hidden layers</th>\n",
              "    </tr>\n",
              "  </thead>\n",
              "  <tbody>\n",
              "    <tr>\n",
              "      <th>0</th>\n",
              "      <td>10.0</td>\n",
              "      <td>0.0001</td>\n",
              "      <td>5.0</td>\n",
              "      <td>1.10</td>\n",
              "      <td>1.839054</td>\n",
              "      <td>1.825286</td>\n",
              "      <td>0.34396</td>\n",
              "      <td>0.3504</td>\n",
              "      <td>1.0</td>\n",
              "    </tr>\n",
              "    <tr>\n",
              "      <th>1</th>\n",
              "      <td>10.0</td>\n",
              "      <td>0.0001</td>\n",
              "      <td>10.0</td>\n",
              "      <td>2.22</td>\n",
              "      <td>1.782870</td>\n",
              "      <td>1.772126</td>\n",
              "      <td>0.36406</td>\n",
              "      <td>0.3561</td>\n",
              "      <td>1.0</td>\n",
              "    </tr>\n",
              "    <tr>\n",
              "      <th>2</th>\n",
              "      <td>10.0</td>\n",
              "      <td>0.0001</td>\n",
              "      <td>20.0</td>\n",
              "      <td>4.48</td>\n",
              "      <td>1.686404</td>\n",
              "      <td>1.685954</td>\n",
              "      <td>0.40296</td>\n",
              "      <td>0.3991</td>\n",
              "      <td>1.0</td>\n",
              "    </tr>\n",
              "    <tr>\n",
              "      <th>3</th>\n",
              "      <td>10.0</td>\n",
              "      <td>0.0010</td>\n",
              "      <td>5.0</td>\n",
              "      <td>1.13</td>\n",
              "      <td>1.734362</td>\n",
              "      <td>1.753873</td>\n",
              "      <td>0.37722</td>\n",
              "      <td>0.3667</td>\n",
              "      <td>1.0</td>\n",
              "    </tr>\n",
              "    <tr>\n",
              "      <th>4</th>\n",
              "      <td>10.0</td>\n",
              "      <td>0.0010</td>\n",
              "      <td>10.0</td>\n",
              "      <td>2.28</td>\n",
              "      <td>1.610634</td>\n",
              "      <td>1.613919</td>\n",
              "      <td>0.42088</td>\n",
              "      <td>0.4208</td>\n",
              "      <td>1.0</td>\n",
              "    </tr>\n",
              "    <tr>\n",
              "      <th>...</th>\n",
              "      <td>...</td>\n",
              "      <td>...</td>\n",
              "      <td>...</td>\n",
              "      <td>...</td>\n",
              "      <td>...</td>\n",
              "      <td>...</td>\n",
              "      <td>...</td>\n",
              "      <td>...</td>\n",
              "      <td>...</td>\n",
              "    </tr>\n",
              "    <tr>\n",
              "      <th>67</th>\n",
              "      <td>50.0</td>\n",
              "      <td>0.0001</td>\n",
              "      <td>10.0</td>\n",
              "      <td>2.55</td>\n",
              "      <td>1.369244</td>\n",
              "      <td>1.449576</td>\n",
              "      <td>0.51078</td>\n",
              "      <td>0.4796</td>\n",
              "      <td>4.0</td>\n",
              "    </tr>\n",
              "    <tr>\n",
              "      <th>68</th>\n",
              "      <td>50.0</td>\n",
              "      <td>0.0001</td>\n",
              "      <td>20.0</td>\n",
              "      <td>5.02</td>\n",
              "      <td>1.125941</td>\n",
              "      <td>1.344195</td>\n",
              "      <td>0.60004</td>\n",
              "      <td>0.5270</td>\n",
              "      <td>4.0</td>\n",
              "    </tr>\n",
              "    <tr>\n",
              "      <th>69</th>\n",
              "      <td>50.0</td>\n",
              "      <td>0.0010</td>\n",
              "      <td>5.0</td>\n",
              "      <td>1.25</td>\n",
              "      <td>1.532476</td>\n",
              "      <td>1.508459</td>\n",
              "      <td>0.44944</td>\n",
              "      <td>0.4611</td>\n",
              "      <td>4.0</td>\n",
              "    </tr>\n",
              "    <tr>\n",
              "      <th>70</th>\n",
              "      <td>50.0</td>\n",
              "      <td>0.0010</td>\n",
              "      <td>10.0</td>\n",
              "      <td>2.50</td>\n",
              "      <td>1.368618</td>\n",
              "      <td>1.451677</td>\n",
              "      <td>0.50964</td>\n",
              "      <td>0.4890</td>\n",
              "      <td>4.0</td>\n",
              "    </tr>\n",
              "    <tr>\n",
              "      <th>71</th>\n",
              "      <td>50.0</td>\n",
              "      <td>0.0010</td>\n",
              "      <td>20.0</td>\n",
              "      <td>5.05</td>\n",
              "      <td>1.080132</td>\n",
              "      <td>1.422769</td>\n",
              "      <td>0.61016</td>\n",
              "      <td>0.5187</td>\n",
              "      <td>4.0</td>\n",
              "    </tr>\n",
              "  </tbody>\n",
              "</table>\n",
              "<p>72 rows × 9 columns</p>\n",
              "</div>\n",
              "      <button class=\"colab-df-convert\" onclick=\"convertToInteractive('df-199763df-8ca8-48d6-9255-113db7a94b08')\"\n",
              "              title=\"Convert this dataframe to an interactive table.\"\n",
              "              style=\"display:none;\">\n",
              "        \n",
              "  <svg xmlns=\"http://www.w3.org/2000/svg\" height=\"24px\"viewBox=\"0 0 24 24\"\n",
              "       width=\"24px\">\n",
              "    <path d=\"M0 0h24v24H0V0z\" fill=\"none\"/>\n",
              "    <path d=\"M18.56 5.44l.94 2.06.94-2.06 2.06-.94-2.06-.94-.94-2.06-.94 2.06-2.06.94zm-11 1L8.5 8.5l.94-2.06 2.06-.94-2.06-.94L8.5 2.5l-.94 2.06-2.06.94zm10 10l.94 2.06.94-2.06 2.06-.94-2.06-.94-.94-2.06-.94 2.06-2.06.94z\"/><path d=\"M17.41 7.96l-1.37-1.37c-.4-.4-.92-.59-1.43-.59-.52 0-1.04.2-1.43.59L10.3 9.45l-7.72 7.72c-.78.78-.78 2.05 0 2.83L4 21.41c.39.39.9.59 1.41.59.51 0 1.02-.2 1.41-.59l7.78-7.78 2.81-2.81c.8-.78.8-2.07 0-2.86zM5.41 20L4 18.59l7.72-7.72 1.47 1.35L5.41 20z\"/>\n",
              "  </svg>\n",
              "      </button>\n",
              "      \n",
              "  <style>\n",
              "    .colab-df-container {\n",
              "      display:flex;\n",
              "      flex-wrap:wrap;\n",
              "      gap: 12px;\n",
              "    }\n",
              "\n",
              "    .colab-df-convert {\n",
              "      background-color: #E8F0FE;\n",
              "      border: none;\n",
              "      border-radius: 50%;\n",
              "      cursor: pointer;\n",
              "      display: none;\n",
              "      fill: #1967D2;\n",
              "      height: 32px;\n",
              "      padding: 0 0 0 0;\n",
              "      width: 32px;\n",
              "    }\n",
              "\n",
              "    .colab-df-convert:hover {\n",
              "      background-color: #E2EBFA;\n",
              "      box-shadow: 0px 1px 2px rgba(60, 64, 67, 0.3), 0px 1px 3px 1px rgba(60, 64, 67, 0.15);\n",
              "      fill: #174EA6;\n",
              "    }\n",
              "\n",
              "    [theme=dark] .colab-df-convert {\n",
              "      background-color: #3B4455;\n",
              "      fill: #D2E3FC;\n",
              "    }\n",
              "\n",
              "    [theme=dark] .colab-df-convert:hover {\n",
              "      background-color: #434B5C;\n",
              "      box-shadow: 0px 1px 3px 1px rgba(0, 0, 0, 0.15);\n",
              "      filter: drop-shadow(0px 1px 2px rgba(0, 0, 0, 0.3));\n",
              "      fill: #FFFFFF;\n",
              "    }\n",
              "  </style>\n",
              "\n",
              "      <script>\n",
              "        const buttonEl =\n",
              "          document.querySelector('#df-199763df-8ca8-48d6-9255-113db7a94b08 button.colab-df-convert');\n",
              "        buttonEl.style.display =\n",
              "          google.colab.kernel.accessAllowed ? 'block' : 'none';\n",
              "\n",
              "        async function convertToInteractive(key) {\n",
              "          const element = document.querySelector('#df-199763df-8ca8-48d6-9255-113db7a94b08');\n",
              "          const dataTable =\n",
              "            await google.colab.kernel.invokeFunction('convertToInteractive',\n",
              "                                                     [key], {});\n",
              "          if (!dataTable) return;\n",
              "\n",
              "          const docLinkHtml = 'Like what you see? Visit the ' +\n",
              "            '<a target=\"_blank\" href=https://colab.research.google.com/notebooks/data_table.ipynb>data table notebook</a>'\n",
              "            + ' to learn more about interactive tables.';\n",
              "          element.innerHTML = '';\n",
              "          dataTable['output_type'] = 'display_data';\n",
              "          await google.colab.output.renderOutput(dataTable, element);\n",
              "          const docLink = document.createElement('div');\n",
              "          docLink.innerHTML = docLinkHtml;\n",
              "          element.appendChild(docLink);\n",
              "        }\n",
              "      </script>\n",
              "    </div>\n",
              "  </div>\n",
              "  "
            ]
          },
          "metadata": {},
          "execution_count": 19
        }
      ]
    },
    {
      "cell_type": "code",
      "source": [
        "# чтобы название теперь соответствовало цифрам перепишу его - можно было сразу сделать в цикле кстати\n",
        "results.rename(columns={'time (sec)': 'time (min)'}, inplace=True)\n",
        "results.head(3)"
      ],
      "metadata": {
        "id": "tY2CP5hyfS79",
        "colab": {
          "base_uri": "https://localhost:8080/",
          "height": 143
        },
        "outputId": "4c8ff711-b27b-4eaa-bc43-d6d3e1ec9414"
      },
      "execution_count": 20,
      "outputs": [
        {
          "output_type": "execute_result",
          "data": {
            "text/plain": [
              "   hidden dim  learning rate  epochs  time (min)  train loss  test loss  \\\n",
              "0        10.0         0.0001     5.0        1.10    1.839054   1.825286   \n",
              "1        10.0         0.0001    10.0        2.22    1.782870   1.772126   \n",
              "2        10.0         0.0001    20.0        4.48    1.686404   1.685954   \n",
              "\n",
              "   train acc  test acc  hidden layers  \n",
              "0    0.34396    0.3504            1.0  \n",
              "1    0.36406    0.3561            1.0  \n",
              "2    0.40296    0.3991            1.0  "
            ],
            "text/html": [
              "\n",
              "  <div id=\"df-c148f07c-3d36-4c9f-92c7-24ddfcabb015\">\n",
              "    <div class=\"colab-df-container\">\n",
              "      <div>\n",
              "<style scoped>\n",
              "    .dataframe tbody tr th:only-of-type {\n",
              "        vertical-align: middle;\n",
              "    }\n",
              "\n",
              "    .dataframe tbody tr th {\n",
              "        vertical-align: top;\n",
              "    }\n",
              "\n",
              "    .dataframe thead th {\n",
              "        text-align: right;\n",
              "    }\n",
              "</style>\n",
              "<table border=\"1\" class=\"dataframe\">\n",
              "  <thead>\n",
              "    <tr style=\"text-align: right;\">\n",
              "      <th></th>\n",
              "      <th>hidden dim</th>\n",
              "      <th>learning rate</th>\n",
              "      <th>epochs</th>\n",
              "      <th>time (min)</th>\n",
              "      <th>train loss</th>\n",
              "      <th>test loss</th>\n",
              "      <th>train acc</th>\n",
              "      <th>test acc</th>\n",
              "      <th>hidden layers</th>\n",
              "    </tr>\n",
              "  </thead>\n",
              "  <tbody>\n",
              "    <tr>\n",
              "      <th>0</th>\n",
              "      <td>10.0</td>\n",
              "      <td>0.0001</td>\n",
              "      <td>5.0</td>\n",
              "      <td>1.10</td>\n",
              "      <td>1.839054</td>\n",
              "      <td>1.825286</td>\n",
              "      <td>0.34396</td>\n",
              "      <td>0.3504</td>\n",
              "      <td>1.0</td>\n",
              "    </tr>\n",
              "    <tr>\n",
              "      <th>1</th>\n",
              "      <td>10.0</td>\n",
              "      <td>0.0001</td>\n",
              "      <td>10.0</td>\n",
              "      <td>2.22</td>\n",
              "      <td>1.782870</td>\n",
              "      <td>1.772126</td>\n",
              "      <td>0.36406</td>\n",
              "      <td>0.3561</td>\n",
              "      <td>1.0</td>\n",
              "    </tr>\n",
              "    <tr>\n",
              "      <th>2</th>\n",
              "      <td>10.0</td>\n",
              "      <td>0.0001</td>\n",
              "      <td>20.0</td>\n",
              "      <td>4.48</td>\n",
              "      <td>1.686404</td>\n",
              "      <td>1.685954</td>\n",
              "      <td>0.40296</td>\n",
              "      <td>0.3991</td>\n",
              "      <td>1.0</td>\n",
              "    </tr>\n",
              "  </tbody>\n",
              "</table>\n",
              "</div>\n",
              "      <button class=\"colab-df-convert\" onclick=\"convertToInteractive('df-c148f07c-3d36-4c9f-92c7-24ddfcabb015')\"\n",
              "              title=\"Convert this dataframe to an interactive table.\"\n",
              "              style=\"display:none;\">\n",
              "        \n",
              "  <svg xmlns=\"http://www.w3.org/2000/svg\" height=\"24px\"viewBox=\"0 0 24 24\"\n",
              "       width=\"24px\">\n",
              "    <path d=\"M0 0h24v24H0V0z\" fill=\"none\"/>\n",
              "    <path d=\"M18.56 5.44l.94 2.06.94-2.06 2.06-.94-2.06-.94-.94-2.06-.94 2.06-2.06.94zm-11 1L8.5 8.5l.94-2.06 2.06-.94-2.06-.94L8.5 2.5l-.94 2.06-2.06.94zm10 10l.94 2.06.94-2.06 2.06-.94-2.06-.94-.94-2.06-.94 2.06-2.06.94z\"/><path d=\"M17.41 7.96l-1.37-1.37c-.4-.4-.92-.59-1.43-.59-.52 0-1.04.2-1.43.59L10.3 9.45l-7.72 7.72c-.78.78-.78 2.05 0 2.83L4 21.41c.39.39.9.59 1.41.59.51 0 1.02-.2 1.41-.59l7.78-7.78 2.81-2.81c.8-.78.8-2.07 0-2.86zM5.41 20L4 18.59l7.72-7.72 1.47 1.35L5.41 20z\"/>\n",
              "  </svg>\n",
              "      </button>\n",
              "      \n",
              "  <style>\n",
              "    .colab-df-container {\n",
              "      display:flex;\n",
              "      flex-wrap:wrap;\n",
              "      gap: 12px;\n",
              "    }\n",
              "\n",
              "    .colab-df-convert {\n",
              "      background-color: #E8F0FE;\n",
              "      border: none;\n",
              "      border-radius: 50%;\n",
              "      cursor: pointer;\n",
              "      display: none;\n",
              "      fill: #1967D2;\n",
              "      height: 32px;\n",
              "      padding: 0 0 0 0;\n",
              "      width: 32px;\n",
              "    }\n",
              "\n",
              "    .colab-df-convert:hover {\n",
              "      background-color: #E2EBFA;\n",
              "      box-shadow: 0px 1px 2px rgba(60, 64, 67, 0.3), 0px 1px 3px 1px rgba(60, 64, 67, 0.15);\n",
              "      fill: #174EA6;\n",
              "    }\n",
              "\n",
              "    [theme=dark] .colab-df-convert {\n",
              "      background-color: #3B4455;\n",
              "      fill: #D2E3FC;\n",
              "    }\n",
              "\n",
              "    [theme=dark] .colab-df-convert:hover {\n",
              "      background-color: #434B5C;\n",
              "      box-shadow: 0px 1px 3px 1px rgba(0, 0, 0, 0.15);\n",
              "      filter: drop-shadow(0px 1px 2px rgba(0, 0, 0, 0.3));\n",
              "      fill: #FFFFFF;\n",
              "    }\n",
              "  </style>\n",
              "\n",
              "      <script>\n",
              "        const buttonEl =\n",
              "          document.querySelector('#df-c148f07c-3d36-4c9f-92c7-24ddfcabb015 button.colab-df-convert');\n",
              "        buttonEl.style.display =\n",
              "          google.colab.kernel.accessAllowed ? 'block' : 'none';\n",
              "\n",
              "        async function convertToInteractive(key) {\n",
              "          const element = document.querySelector('#df-c148f07c-3d36-4c9f-92c7-24ddfcabb015');\n",
              "          const dataTable =\n",
              "            await google.colab.kernel.invokeFunction('convertToInteractive',\n",
              "                                                     [key], {});\n",
              "          if (!dataTable) return;\n",
              "\n",
              "          const docLinkHtml = 'Like what you see? Visit the ' +\n",
              "            '<a target=\"_blank\" href=https://colab.research.google.com/notebooks/data_table.ipynb>data table notebook</a>'\n",
              "            + ' to learn more about interactive tables.';\n",
              "          element.innerHTML = '';\n",
              "          dataTable['output_type'] = 'display_data';\n",
              "          await google.colab.output.renderOutput(dataTable, element);\n",
              "          const docLink = document.createElement('div');\n",
              "          docLink.innerHTML = docLinkHtml;\n",
              "          element.appendChild(docLink);\n",
              "        }\n",
              "      </script>\n",
              "    </div>\n",
              "  </div>\n",
              "  "
            ]
          },
          "metadata": {},
          "execution_count": 20
        }
      ]
    },
    {
      "cell_type": "code",
      "source": [
        "results['time (min)'].sum() / 60"
      ],
      "metadata": {
        "id": "okNMauG6Zqv-",
        "colab": {
          "base_uri": "https://localhost:8080/"
        },
        "outputId": "b585d4e1-cd26-4fff-f876-02092a5406a5"
      },
      "execution_count": 21,
      "outputs": [
        {
          "output_type": "execute_result",
          "data": {
            "text/plain": [
              "3.2774999999999994"
            ]
          },
          "metadata": {},
          "execution_count": 21
        }
      ]
    },
    {
      "cell_type": "markdown",
      "source": [
        "### Цикл работал 3.5 часа!"
      ],
      "metadata": {
        "id": "ZvL_Lw6GAIXe"
      }
    },
    {
      "cell_type": "code",
      "source": [
        "# сортирую датафрейм так чтобы сверху был лучший скор и одновременно меньшее время обучения\n",
        "results.sort_values(['test acc','time (min)'], ascending=[False, True]).head(9)"
      ],
      "metadata": {
        "id": "ouPie-GZAxqe",
        "colab": {
          "base_uri": "https://localhost:8080/",
          "height": 332
        },
        "outputId": "335cc13f-aa42-4a55-cb47-10df7f44cc67"
      },
      "execution_count": 22,
      "outputs": [
        {
          "output_type": "execute_result",
          "data": {
            "text/plain": [
              "    hidden dim  learning rate  epochs  time (min)  train loss  test loss  \\\n",
              "68        50.0         0.0001    20.0        5.02    1.125941   1.344195   \n",
              "62        30.0         0.0001    20.0        4.98    1.246356   1.347606   \n",
              "71        50.0         0.0010    20.0        5.05    1.080132   1.422769   \n",
              "50        50.0         0.0001    20.0        4.72    1.242474   1.356052   \n",
              "65        30.0         0.0010    20.0        4.97    1.130779   1.436516   \n",
              "29        30.0         0.0010    20.0        4.65    1.267069   1.388393   \n",
              "32        50.0         0.0001    20.0        4.60    1.319564   1.390959   \n",
              "35        50.0         0.0010    20.0        4.58    1.194835   1.412914   \n",
              "59        10.0         0.0010    20.0        4.83    1.258638   1.407684   \n",
              "\n",
              "    train acc  test acc  hidden layers  \n",
              "68    0.60004    0.5270            4.0  \n",
              "62    0.55464    0.5218            4.0  \n",
              "71    0.61016    0.5187            4.0  \n",
              "50    0.55844    0.5186            3.0  \n",
              "65    0.59194    0.5119            4.0  \n",
              "29    0.54678    0.5106            2.0  \n",
              "32    0.53246    0.5083            2.0  \n",
              "35    0.57000    0.5080            2.0  \n",
              "59    0.55236    0.5073            4.0  "
            ],
            "text/html": [
              "\n",
              "  <div id=\"df-ccd084b4-cd3a-4e77-b475-2cd80ca87262\">\n",
              "    <div class=\"colab-df-container\">\n",
              "      <div>\n",
              "<style scoped>\n",
              "    .dataframe tbody tr th:only-of-type {\n",
              "        vertical-align: middle;\n",
              "    }\n",
              "\n",
              "    .dataframe tbody tr th {\n",
              "        vertical-align: top;\n",
              "    }\n",
              "\n",
              "    .dataframe thead th {\n",
              "        text-align: right;\n",
              "    }\n",
              "</style>\n",
              "<table border=\"1\" class=\"dataframe\">\n",
              "  <thead>\n",
              "    <tr style=\"text-align: right;\">\n",
              "      <th></th>\n",
              "      <th>hidden dim</th>\n",
              "      <th>learning rate</th>\n",
              "      <th>epochs</th>\n",
              "      <th>time (min)</th>\n",
              "      <th>train loss</th>\n",
              "      <th>test loss</th>\n",
              "      <th>train acc</th>\n",
              "      <th>test acc</th>\n",
              "      <th>hidden layers</th>\n",
              "    </tr>\n",
              "  </thead>\n",
              "  <tbody>\n",
              "    <tr>\n",
              "      <th>68</th>\n",
              "      <td>50.0</td>\n",
              "      <td>0.0001</td>\n",
              "      <td>20.0</td>\n",
              "      <td>5.02</td>\n",
              "      <td>1.125941</td>\n",
              "      <td>1.344195</td>\n",
              "      <td>0.60004</td>\n",
              "      <td>0.5270</td>\n",
              "      <td>4.0</td>\n",
              "    </tr>\n",
              "    <tr>\n",
              "      <th>62</th>\n",
              "      <td>30.0</td>\n",
              "      <td>0.0001</td>\n",
              "      <td>20.0</td>\n",
              "      <td>4.98</td>\n",
              "      <td>1.246356</td>\n",
              "      <td>1.347606</td>\n",
              "      <td>0.55464</td>\n",
              "      <td>0.5218</td>\n",
              "      <td>4.0</td>\n",
              "    </tr>\n",
              "    <tr>\n",
              "      <th>71</th>\n",
              "      <td>50.0</td>\n",
              "      <td>0.0010</td>\n",
              "      <td>20.0</td>\n",
              "      <td>5.05</td>\n",
              "      <td>1.080132</td>\n",
              "      <td>1.422769</td>\n",
              "      <td>0.61016</td>\n",
              "      <td>0.5187</td>\n",
              "      <td>4.0</td>\n",
              "    </tr>\n",
              "    <tr>\n",
              "      <th>50</th>\n",
              "      <td>50.0</td>\n",
              "      <td>0.0001</td>\n",
              "      <td>20.0</td>\n",
              "      <td>4.72</td>\n",
              "      <td>1.242474</td>\n",
              "      <td>1.356052</td>\n",
              "      <td>0.55844</td>\n",
              "      <td>0.5186</td>\n",
              "      <td>3.0</td>\n",
              "    </tr>\n",
              "    <tr>\n",
              "      <th>65</th>\n",
              "      <td>30.0</td>\n",
              "      <td>0.0010</td>\n",
              "      <td>20.0</td>\n",
              "      <td>4.97</td>\n",
              "      <td>1.130779</td>\n",
              "      <td>1.436516</td>\n",
              "      <td>0.59194</td>\n",
              "      <td>0.5119</td>\n",
              "      <td>4.0</td>\n",
              "    </tr>\n",
              "    <tr>\n",
              "      <th>29</th>\n",
              "      <td>30.0</td>\n",
              "      <td>0.0010</td>\n",
              "      <td>20.0</td>\n",
              "      <td>4.65</td>\n",
              "      <td>1.267069</td>\n",
              "      <td>1.388393</td>\n",
              "      <td>0.54678</td>\n",
              "      <td>0.5106</td>\n",
              "      <td>2.0</td>\n",
              "    </tr>\n",
              "    <tr>\n",
              "      <th>32</th>\n",
              "      <td>50.0</td>\n",
              "      <td>0.0001</td>\n",
              "      <td>20.0</td>\n",
              "      <td>4.60</td>\n",
              "      <td>1.319564</td>\n",
              "      <td>1.390959</td>\n",
              "      <td>0.53246</td>\n",
              "      <td>0.5083</td>\n",
              "      <td>2.0</td>\n",
              "    </tr>\n",
              "    <tr>\n",
              "      <th>35</th>\n",
              "      <td>50.0</td>\n",
              "      <td>0.0010</td>\n",
              "      <td>20.0</td>\n",
              "      <td>4.58</td>\n",
              "      <td>1.194835</td>\n",
              "      <td>1.412914</td>\n",
              "      <td>0.57000</td>\n",
              "      <td>0.5080</td>\n",
              "      <td>2.0</td>\n",
              "    </tr>\n",
              "    <tr>\n",
              "      <th>59</th>\n",
              "      <td>10.0</td>\n",
              "      <td>0.0010</td>\n",
              "      <td>20.0</td>\n",
              "      <td>4.83</td>\n",
              "      <td>1.258638</td>\n",
              "      <td>1.407684</td>\n",
              "      <td>0.55236</td>\n",
              "      <td>0.5073</td>\n",
              "      <td>4.0</td>\n",
              "    </tr>\n",
              "  </tbody>\n",
              "</table>\n",
              "</div>\n",
              "      <button class=\"colab-df-convert\" onclick=\"convertToInteractive('df-ccd084b4-cd3a-4e77-b475-2cd80ca87262')\"\n",
              "              title=\"Convert this dataframe to an interactive table.\"\n",
              "              style=\"display:none;\">\n",
              "        \n",
              "  <svg xmlns=\"http://www.w3.org/2000/svg\" height=\"24px\"viewBox=\"0 0 24 24\"\n",
              "       width=\"24px\">\n",
              "    <path d=\"M0 0h24v24H0V0z\" fill=\"none\"/>\n",
              "    <path d=\"M18.56 5.44l.94 2.06.94-2.06 2.06-.94-2.06-.94-.94-2.06-.94 2.06-2.06.94zm-11 1L8.5 8.5l.94-2.06 2.06-.94-2.06-.94L8.5 2.5l-.94 2.06-2.06.94zm10 10l.94 2.06.94-2.06 2.06-.94-2.06-.94-.94-2.06-.94 2.06-2.06.94z\"/><path d=\"M17.41 7.96l-1.37-1.37c-.4-.4-.92-.59-1.43-.59-.52 0-1.04.2-1.43.59L10.3 9.45l-7.72 7.72c-.78.78-.78 2.05 0 2.83L4 21.41c.39.39.9.59 1.41.59.51 0 1.02-.2 1.41-.59l7.78-7.78 2.81-2.81c.8-.78.8-2.07 0-2.86zM5.41 20L4 18.59l7.72-7.72 1.47 1.35L5.41 20z\"/>\n",
              "  </svg>\n",
              "      </button>\n",
              "      \n",
              "  <style>\n",
              "    .colab-df-container {\n",
              "      display:flex;\n",
              "      flex-wrap:wrap;\n",
              "      gap: 12px;\n",
              "    }\n",
              "\n",
              "    .colab-df-convert {\n",
              "      background-color: #E8F0FE;\n",
              "      border: none;\n",
              "      border-radius: 50%;\n",
              "      cursor: pointer;\n",
              "      display: none;\n",
              "      fill: #1967D2;\n",
              "      height: 32px;\n",
              "      padding: 0 0 0 0;\n",
              "      width: 32px;\n",
              "    }\n",
              "\n",
              "    .colab-df-convert:hover {\n",
              "      background-color: #E2EBFA;\n",
              "      box-shadow: 0px 1px 2px rgba(60, 64, 67, 0.3), 0px 1px 3px 1px rgba(60, 64, 67, 0.15);\n",
              "      fill: #174EA6;\n",
              "    }\n",
              "\n",
              "    [theme=dark] .colab-df-convert {\n",
              "      background-color: #3B4455;\n",
              "      fill: #D2E3FC;\n",
              "    }\n",
              "\n",
              "    [theme=dark] .colab-df-convert:hover {\n",
              "      background-color: #434B5C;\n",
              "      box-shadow: 0px 1px 3px 1px rgba(0, 0, 0, 0.15);\n",
              "      filter: drop-shadow(0px 1px 2px rgba(0, 0, 0, 0.3));\n",
              "      fill: #FFFFFF;\n",
              "    }\n",
              "  </style>\n",
              "\n",
              "      <script>\n",
              "        const buttonEl =\n",
              "          document.querySelector('#df-ccd084b4-cd3a-4e77-b475-2cd80ca87262 button.colab-df-convert');\n",
              "        buttonEl.style.display =\n",
              "          google.colab.kernel.accessAllowed ? 'block' : 'none';\n",
              "\n",
              "        async function convertToInteractive(key) {\n",
              "          const element = document.querySelector('#df-ccd084b4-cd3a-4e77-b475-2cd80ca87262');\n",
              "          const dataTable =\n",
              "            await google.colab.kernel.invokeFunction('convertToInteractive',\n",
              "                                                     [key], {});\n",
              "          if (!dataTable) return;\n",
              "\n",
              "          const docLinkHtml = 'Like what you see? Visit the ' +\n",
              "            '<a target=\"_blank\" href=https://colab.research.google.com/notebooks/data_table.ipynb>data table notebook</a>'\n",
              "            + ' to learn more about interactive tables.';\n",
              "          element.innerHTML = '';\n",
              "          dataTable['output_type'] = 'display_data';\n",
              "          await google.colab.output.renderOutput(dataTable, element);\n",
              "          const docLink = document.createElement('div');\n",
              "          docLink.innerHTML = docLinkHtml;\n",
              "          element.appendChild(docLink);\n",
              "        }\n",
              "      </script>\n",
              "    </div>\n",
              "  </div>\n",
              "  "
            ]
          },
          "metadata": {},
          "execution_count": 22
        }
      ]
    },
    {
      "cell_type": "markdown",
      "source": [
        "Видим что победила 68 модель (индекс здесь соответствует номеру итерации в цикле и сотв-но номеру модели).\n",
        "\n",
        "<br> \n",
        "\n",
        "Создам теперь модель именно с этими параметрами и буду ожидать от нее 52% точности на тесте:"
      ],
      "metadata": {
        "id": "zqfE9youaoFg"
      }
    },
    {
      "cell_type": "code",
      "source": [
        "final_net = My_Net(input_dim=3072, hidden_dim=50, output_dim=10, n_layers=6) # n_layers указываю на 2 больше, т.к. 4 в таблице это именно\n",
        "                                                                                       # скрытые слои, т.е. без учета входного и выходного слоя\n",
        "criterion = nn.CrossEntropyLoss()\n",
        "final_optimizer = optim.Adam(final_net.parameters(), lr=0.0001)    \n",
        "epochs = 20\n",
        "\n",
        "# обучения\n",
        "for epoch in range(epochs):\n",
        "    final_net.train() # поскольку у меня в цикле обучения внедрена часть кода проверки предсказания на тесте, то в предсказнии обучени отключаю, а перед обучением надо включать\n",
        "\n",
        "    running_loss = 0.0\n",
        "    running_items = 0.0\n",
        "    running_loss_test = 0.0\n",
        "    running_items_test = 0.0\n",
        "    running_right = 0.0\n",
        "    running_right_test = 0.0\n",
        "\n",
        "    #net_to_examine.train() сли тут, то последние веса прошлой модели идут в первую эпоху следующей модели\n",
        "    for i, data in enumerate(train_loader):\n",
        "        \n",
        "        inputs, labels = data[0], data[1]\n",
        "\n",
        "        # Обнуляем градиент внутри каждой эпохи итерируемых эпох \n",
        "        final_optimizer.zero_grad()\n",
        "        # Делаем предсказание\n",
        "        outputs = final_net(inputs)\n",
        "        # Рассчитываем лосс-функцию\n",
        "        loss = criterion(outputs, labels)\n",
        "        # Делаем шаг назад по лоссу\n",
        "        loss.backward()\n",
        "        # Делаем шаг нашего оптимайзера\n",
        "        final_optimizer.step()\n",
        "\n",
        "        # выводим статистику о процессе обучения\n",
        "        running_loss += loss.item()\n",
        "        running_items += len(labels)\n",
        "        running_right += (labels == torch.max(outputs, 1)[1]).sum()\n",
        "\n",
        "    running_right = running_right.item()\n",
        "    train_loss = running_loss / i\n",
        "    train_acc = running_right / running_items\n",
        "    print(f'Epoch [{epoch + 1}/{epochs}]. ' \\\n",
        "          f'Loss_train: {train_loss:.4f}. ' \\\n",
        "          f'Acc: {train_acc:.4f}.', end=' ')\n",
        "    \n",
        "\n",
        "    final_net.eval()\n",
        "    for i, data in enumerate(test_loader):\n",
        "        inputs, labels = data[0], data[1]\n",
        "        # Делаем предсказание\n",
        "        outputs = final_net(inputs)\n",
        "        # Рассчитываем лосс-функцию\n",
        "        loss = criterion(outputs, labels)\n",
        "\n",
        "        running_loss_test += loss.item()\n",
        "        running_items_test += len(labels)\n",
        "        running_right_test += (labels == torch.max(outputs, 1)[1]).sum()\n",
        "\n",
        "    running_right_test = running_right_test.item()\n",
        "    test_loss = running_loss_test / i\n",
        "    test_acc = running_right_test / running_items_test\n",
        "    print(f'Loss_test: {test_loss:.4f}. ' \\\n",
        "          f'Acc_test: {test_acc:.4f}')\n",
        "\n",
        "\n",
        "    # независимо последняя эпоха или нет, после каждой эпохи обнуляем значения для подсчета метрик\n",
        "    running_loss_test, running_items_test, running_right_test = 0.0, 0.0, 0.0\n",
        "    running_loss, running_items, running_right = 0.0, 0.0, 0.0"
      ],
      "metadata": {
        "id": "ka67fF0Oa9uT",
        "colab": {
          "base_uri": "https://localhost:8080/"
        },
        "outputId": "a2634884-6a0a-4ba1-dd5d-2beb51b475f4"
      },
      "execution_count": 23,
      "outputs": [
        {
          "output_type": "stream",
          "name": "stdout",
          "text": [
            "Epoch [1/20]. Loss_train: 2.0119. Acc: 0.2483. Loss_test: 1.8465. Acc_test: 0.3241\n",
            "Epoch [2/20]. Loss_train: 1.7864. Acc: 0.3530. Loss_test: 1.7220. Acc_test: 0.3808\n",
            "Epoch [3/20]. Loss_train: 1.6903. Acc: 0.3883. Loss_test: 1.6785. Acc_test: 0.3928\n",
            "Epoch [4/20]. Loss_train: 1.6282. Acc: 0.4138. Loss_test: 1.6054. Acc_test: 0.4207\n",
            "Epoch [5/20]. Loss_train: 1.5719. Acc: 0.4347. Loss_test: 1.5597. Acc_test: 0.4387\n",
            "Epoch [6/20]. Loss_train: 1.5264. Acc: 0.4522. Loss_test: 1.5000. Acc_test: 0.4636\n",
            "Epoch [7/20]. Loss_train: 1.4848. Acc: 0.4669. Loss_test: 1.4822. Acc_test: 0.4776\n",
            "Epoch [8/20]. Loss_train: 1.4499. Acc: 0.4803. Loss_test: 1.5171. Acc_test: 0.4683\n",
            "Epoch [9/20]. Loss_train: 1.4133. Acc: 0.4943. Loss_test: 1.4554. Acc_test: 0.4820\n",
            "Epoch [10/20]. Loss_train: 1.3804. Acc: 0.5076. Loss_test: 1.4085. Acc_test: 0.4972\n",
            "Epoch [11/20]. Loss_train: 1.3522. Acc: 0.5129. Loss_test: 1.4000. Acc_test: 0.4984\n",
            "Epoch [12/20]. Loss_train: 1.3232. Acc: 0.5266. Loss_test: 1.3792. Acc_test: 0.5102\n",
            "Epoch [13/20]. Loss_train: 1.2965. Acc: 0.5375. Loss_test: 1.4197. Acc_test: 0.4973\n",
            "Epoch [14/20]. Loss_train: 1.2713. Acc: 0.5471. Loss_test: 1.3543. Acc_test: 0.5234\n",
            "Epoch [15/20]. Loss_train: 1.2441. Acc: 0.5573. Loss_test: 1.3927. Acc_test: 0.5109\n",
            "Epoch [16/20]. Loss_train: 1.2155. Acc: 0.5668. Loss_test: 1.3371. Acc_test: 0.5262\n",
            "Epoch [17/20]. Loss_train: 1.1933. Acc: 0.5747. Loss_test: 1.3687. Acc_test: 0.5169\n",
            "Epoch [18/20]. Loss_train: 1.1672. Acc: 0.5857. Loss_test: 1.3339. Acc_test: 0.5286\n",
            "Epoch [19/20]. Loss_train: 1.1485. Acc: 0.5891. Loss_test: 1.3123. Acc_test: 0.5389\n",
            "Epoch [20/20]. Loss_train: 1.1253. Acc: 0.6001. Loss_test: 1.3366. Acc_test: 0.5346\n"
          ]
        }
      ]
    },
    {
      "cell_type": "markdown",
      "source": [
        "__Финальная часть - смотрим как распознает картинки на примере:__"
      ],
      "metadata": {
        "id": "tx6He3tmgKVy"
      }
    },
    {
      "cell_type": "code",
      "source": [
        "data_iter = iter(test_loader)\n",
        "images, labels = next(data_iter)\n",
        "\n",
        "final_net.eval()\n",
        "outputs = final_net(images)  # final_net(images) это равнозначно final_net.forward(images) - можно упрощать \n",
        "imgs = torchvision.utils.make_grid(images)\n",
        "plt.figure(figsize=(10, 5))\n",
        "plt.imshow(imgs.permute(1, 2, 0).numpy())\n",
        "print('GroundTruth: ', ' '.join(classes[labels[j]] for j in range(len(labels))))"
      ],
      "metadata": {
        "id": "GtjNq7aPUGeU",
        "colab": {
          "base_uri": "https://localhost:8080/",
          "height": 141
        },
        "outputId": "96e734d6-aad7-4265-b334-cf049d940a88"
      },
      "execution_count": 24,
      "outputs": [
        {
          "output_type": "stream",
          "name": "stdout",
          "text": [
            "GroundTruth:  cat ship ship plane frog frog car frog\n"
          ]
        },
        {
          "output_type": "display_data",
          "data": {
            "text/plain": [
              "<Figure size 720x360 with 1 Axes>"
            ],
            "image/png": "[encoded data removed]"
          },
          "metadata": {
            "needs_background": "light"
          }
        }
      ]
    },
    {
      "cell_type": "code",
      "source": [
        "_, predicted = torch.max(outputs, 1)\n",
        "\n",
        "predicted"
      ],
      "metadata": {
        "id": "O_YbtFeCf92H",
        "colab": {
          "base_uri": "https://localhost:8080/"
        },
        "outputId": "228b2f18-b2d5-427d-ac4a-41c527724344"
      },
      "execution_count": 25,
      "outputs": [
        {
          "output_type": "execute_result",
          "data": {
            "text/plain": [
              "tensor([1, 8, 0, 0, 4, 6, 1, 6])"
            ]
          },
          "metadata": {},
          "execution_count": 25
        }
      ]
    },
    {
      "cell_type": "code",
      "source": [
        "gt = np.array([classes[labels[j]] for j in range(len(labels))])\n",
        "pred = np.array([classes[predicted[j]] for j in range(len(labels))])\n",
        "\n",
        "print(gt)\n",
        "print(pred)\n",
        "print(f'Accuracy is {(gt == pred).sum() / len(gt)}')"
      ],
      "metadata": {
        "id": "ujIkhvBuYe_U",
        "colab": {
          "base_uri": "https://localhost:8080/"
        },
        "outputId": "da4e7763-a3c0-4d29-e211-1d6fc4d7e18d"
      },
      "execution_count": 26,
      "outputs": [
        {
          "output_type": "stream",
          "name": "stdout",
          "text": [
            "['cat' 'ship' 'ship' 'plane' 'frog' 'frog' 'car' 'frog']\n",
            "['car' 'ship' 'plane' 'plane' 'deer' 'frog' 'car' 'frog']\n",
            "Accuracy is 0.625\n"
          ]
        }
      ]
    },
    {
      "cell_type": "markdown",
      "source": [
        "Итак, модель распознала 6 из 8, в то время как модель с урока распознала только 2\n",
        "\n",
        "Попробуем сделать то же самое, но без деления на батчи в критерии (делаем как на уроке было):"
      ],
      "metadata": {
        "id": "YVUK3edkilZu"
      }
    },
    {
      "cell_type": "code",
      "source": [
        "final_net2 = My_Net(input_dim=3072, hidden_dim=50, output_dim=10, n_layers=6) # n_layers указываю на 2 больше, т.к. 4 в таблице это именно\n",
        "                                                                                       # скрытые слои, т.е. без учета входного и выходного слоя\n",
        "criterion = nn.CrossEntropyLoss()\n",
        "final_optimizer = optim.Adam(final_net2.parameters(), lr=0.0001)    \n",
        "\n",
        "num_epochs = 20  \n",
        "\n",
        "for epoch in range(num_epochs):\n",
        "    running_loss = 0.0\n",
        "    running_items = 0.0\n",
        "    \n",
        "    for i, data in enumerate(train_loader):\n",
        "        inputs, labels = data[0], data[1]\n",
        "        \n",
        "        # Обнуляем градиент\n",
        "        final_optimizer.zero_grad()\n",
        "        # Делаем предсказание\n",
        "        outputs = final_net2(inputs)\n",
        "        # Рассчитываем лосс-функцию\n",
        "        loss = criterion(outputs, labels)\n",
        "        # Делаем шаг назад по лоссу\n",
        "        loss.backward()\n",
        "        # Делаем шаг нашего оптимайзера\n",
        "        final_optimizer.step()\n",
        "        # выводим статистику о процессе обучения\n",
        "        running_loss += loss.item()\n",
        "        running_items += len(labels)\n",
        "        if i % 300 ==0:  # печатаем каждые 300 mini-batches\n",
        "            print(f'Epoch [{epoch + 1}/{num_epochs}]. ' \\\n",
        "                  f'Step [{i + 1}/{len(train_loader)}]. ' \\\n",
        "                  f'Loss: {running_loss / running_items:.3f}')\n",
        "            running_loss, running_items = 0.0, 0.0\n",
        "            \n",
        "print('Training is finished!')\n",
        "\n"
      ],
      "metadata": {
        "id": "O6dKiAvujYd-",
        "colab": {
          "base_uri": "https://localhost:8080/"
        },
        "outputId": "fe5ee81c-ff4b-4694-a756-b9caeb993ef4"
      },
      "execution_count": 27,
      "outputs": [
        {
          "output_type": "stream",
          "name": "stdout",
          "text": [
            "Epoch [1/20]. Step [1/782]. Loss: 0.036\n",
            "Epoch [1/20]. Step [301/782]. Loss: 0.033\n",
            "Epoch [1/20]. Step [601/782]. Loss: 0.031\n",
            "Epoch [2/20]. Step [1/782]. Loss: 0.030\n",
            "Epoch [2/20]. Step [301/782]. Loss: 0.029\n",
            "Epoch [2/20]. Step [601/782]. Loss: 0.028\n",
            "Epoch [3/20]. Step [1/782]. Loss: 0.026\n",
            "Epoch [3/20]. Step [301/782]. Loss: 0.027\n",
            "Epoch [3/20]. Step [601/782]. Loss: 0.027\n",
            "Epoch [4/20]. Step [1/782]. Loss: 0.023\n",
            "Epoch [4/20]. Step [301/782]. Loss: 0.026\n",
            "Epoch [4/20]. Step [601/782]. Loss: 0.025\n",
            "Epoch [5/20]. Step [1/782]. Loss: 0.027\n",
            "Epoch [5/20]. Step [301/782]. Loss: 0.025\n",
            "Epoch [5/20]. Step [601/782]. Loss: 0.025\n",
            "Epoch [6/20]. Step [1/782]. Loss: 0.021\n",
            "Epoch [6/20]. Step [301/782]. Loss: 0.024\n",
            "Epoch [6/20]. Step [601/782]. Loss: 0.024\n",
            "Epoch [7/20]. Step [1/782]. Loss: 0.020\n",
            "Epoch [7/20]. Step [301/782]. Loss: 0.023\n",
            "Epoch [7/20]. Step [601/782]. Loss: 0.023\n",
            "Epoch [8/20]. Step [1/782]. Loss: 0.021\n",
            "Epoch [8/20]. Step [301/782]. Loss: 0.023\n",
            "Epoch [8/20]. Step [601/782]. Loss: 0.023\n",
            "Epoch [9/20]. Step [1/782]. Loss: 0.023\n",
            "Epoch [9/20]. Step [301/782]. Loss: 0.022\n",
            "Epoch [9/20]. Step [601/782]. Loss: 0.022\n",
            "Epoch [10/20]. Step [1/782]. Loss: 0.020\n",
            "Epoch [10/20]. Step [301/782]. Loss: 0.022\n",
            "Epoch [10/20]. Step [601/782]. Loss: 0.022\n",
            "Epoch [11/20]. Step [1/782]. Loss: 0.021\n",
            "Epoch [11/20]. Step [301/782]. Loss: 0.022\n",
            "Epoch [11/20]. Step [601/782]. Loss: 0.021\n",
            "Epoch [12/20]. Step [1/782]. Loss: 0.019\n",
            "Epoch [12/20]. Step [301/782]. Loss: 0.021\n",
            "Epoch [12/20]. Step [601/782]. Loss: 0.021\n",
            "Epoch [13/20]. Step [1/782]. Loss: 0.020\n",
            "Epoch [13/20]. Step [301/782]. Loss: 0.020\n",
            "Epoch [13/20]. Step [601/782]. Loss: 0.020\n",
            "Epoch [14/20]. Step [1/782]. Loss: 0.019\n",
            "Epoch [14/20]. Step [301/782]. Loss: 0.020\n",
            "Epoch [14/20]. Step [601/782]. Loss: 0.020\n",
            "Epoch [15/20]. Step [1/782]. Loss: 0.020\n",
            "Epoch [15/20]. Step [301/782]. Loss: 0.019\n",
            "Epoch [15/20]. Step [601/782]. Loss: 0.020\n",
            "Epoch [16/20]. Step [1/782]. Loss: 0.019\n",
            "Epoch [16/20]. Step [301/782]. Loss: 0.019\n",
            "Epoch [16/20]. Step [601/782]. Loss: 0.019\n",
            "Epoch [17/20]. Step [1/782]. Loss: 0.017\n",
            "Epoch [17/20]. Step [301/782]. Loss: 0.019\n",
            "Epoch [17/20]. Step [601/782]. Loss: 0.019\n",
            "Epoch [18/20]. Step [1/782]. Loss: 0.014\n",
            "Epoch [18/20]. Step [301/782]. Loss: 0.018\n",
            "Epoch [18/20]. Step [601/782]. Loss: 0.018\n",
            "Epoch [19/20]. Step [1/782]. Loss: 0.020\n",
            "Epoch [19/20]. Step [301/782]. Loss: 0.018\n",
            "Epoch [19/20]. Step [601/782]. Loss: 0.018\n",
            "Epoch [20/20]. Step [1/782]. Loss: 0.018\n",
            "Epoch [20/20]. Step [301/782]. Loss: 0.017\n",
            "Epoch [20/20]. Step [601/782]. Loss: 0.018\n",
            "Training is finished!\n"
          ]
        }
      ]
    },
    {
      "cell_type": "code",
      "source": [
        "data_iter = iter(test_loader)\n",
        "images, labels = next(data_iter)\n",
        "\n",
        "final_net2.eval()\n",
        "outputs = final_net2(images)  # final_net(images) это равнозначно final_net.forward(images) - можно упрощать \n",
        "imgs = torchvision.utils.make_grid(images)\n",
        "plt.figure(figsize=(10, 5))\n",
        "plt.imshow(imgs.permute(1, 2, 0).numpy())\n",
        "print('GroundTruth: ', ' '.join(classes[labels[j]] for j in range(len(labels))))"
      ],
      "metadata": {
        "id": "HEBbIrL4kEtW",
        "colab": {
          "base_uri": "https://localhost:8080/",
          "height": 141
        },
        "outputId": "cdc19a60-a737-491b-dec5-cd3faf504a44"
      },
      "execution_count": 28,
      "outputs": [
        {
          "output_type": "stream",
          "name": "stdout",
          "text": [
            "GroundTruth:  cat ship ship plane frog frog car frog\n"
          ]
        },
        {
          "output_type": "display_data",
          "data": {
            "text/plain": [
              "<Figure size 720x360 with 1 Axes>"
            ],
            "image/png": "[encoded data removed]"
          },
          "metadata": {
            "needs_background": "light"
          }
        }
      ]
    },
    {
      "cell_type": "code",
      "source": [
        "_, predicted = torch.max(outputs, 1)\n",
        "\n",
        "gt = np.array([classes[labels[j]] for j in range(len(labels))])\n",
        "pred = np.array([classes[predicted[j]] for j in range(len(labels))])\n",
        "\n",
        "print(gt)\n",
        "print(pred)\n",
        "print(f'Number of matches is {(gt == pred).sum()}')\n",
        "print(f'Accuracy is {(gt == pred).sum() / len(gt)}')"
      ],
      "metadata": {
        "id": "ZNFis_U_kPIj",
        "colab": {
          "base_uri": "https://localhost:8080/"
        },
        "outputId": "6c9a5ed1-4559-4686-ef05-f9d1974c5613"
      },
      "execution_count": 29,
      "outputs": [
        {
          "output_type": "stream",
          "name": "stdout",
          "text": [
            "['cat' 'ship' 'ship' 'plane' 'frog' 'frog' 'car' 'frog']\n",
            "['cat' 'truck' 'plane' 'bird' 'frog' 'frog' 'car' 'frog']\n",
            "Number of matches is 5\n",
            "Accuracy is 0.625\n"
          ]
        }
      ]
    }
  ]
}