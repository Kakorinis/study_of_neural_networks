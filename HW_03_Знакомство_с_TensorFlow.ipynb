{
  "nbformat": 4,
  "nbformat_minor": 0,
  "metadata": {
    "colab": {
      "provenance": []
    },
    "kernelspec": {
      "name": "python3",
      "display_name": "Python 3"
    },
    "language_info": {
      "name": "python"
    }
  },
  "cells": [
    {
      "cell_type": "markdown",
      "source": [
        "__Задание:__Попробуйте улучшить работу нейронной сети (разобранную на уроке), обучавшейся на датасет Fashion-MNIST <br>\n",
        "\n",
        "Постройте нейронную сеть(берем простую линейную сеть, которую разбирали на уроке: меняем число слоев, число нейронов , типы активации, тип оптимизатора) на датасет from sklearn.datasets import load_boston.\n",
        "\n",
        "Измените функцию потерь и метрику для этой задачи. Постройте 10-15 вариантов и сведите результаты их работы в таблицу Опишите, какого результата вы добились от нейросети? Что помогло вам улучшить ее точность?"
      ],
      "metadata": {
        "id": "mai02qXLOcc2"
      }
    },
    {
      "cell_type": "code",
      "source": [
        "import tensorflow as tf\n",
        "import numpy as np\n",
        "import pandas as pd\n",
        "\n",
        "from sklearn.datasets import load_boston\n",
        "from sklearn.preprocessing import StandardScaler\n",
        "\n",
        "from tensorflow.keras.models import Sequential\n",
        "from tensorflow.keras.layers import Dense\n",
        "from tensorflow.keras.utils import to_categorical\n",
        "\n",
        "from tensorflow.keras.layers import Input, Flatten, Dense\n",
        "from tensorflow.keras.models import Model\n",
        "\n",
        "from tensorflow.keras.optimizers import Adam, SGD"
      ],
      "metadata": {
        "id": "JEI55l5WOeLv"
      },
      "execution_count": 87,
      "outputs": []
    },
    {
      "cell_type": "code",
      "source": [
        "tf.config.list_physical_devices('GPU')"
      ],
      "metadata": {
        "colab": {
          "base_uri": "https://localhost:8080/"
        },
        "id": "1NBaObqUM-ma",
        "outputId": "b3ed2fc3-1f50-43a5-8cbf-9b561a164bd9"
      },
      "execution_count": 88,
      "outputs": [
        {
          "output_type": "execute_result",
          "data": {
            "text/plain": [
              "[]"
            ]
          },
          "metadata": {},
          "execution_count": 88
        }
      ]
    },
    {
      "cell_type": "code",
      "source": [
        "tf.random.set_seed(1) # чтобы веса инициировались одинаково"
      ],
      "metadata": {
        "id": "k9xHNwLhdyWL"
      },
      "execution_count": 89,
      "outputs": []
    },
    {
      "cell_type": "markdown",
      "source": [
        "__Загрузка и обработка данных:__"
      ],
      "metadata": {
        "id": "hYLKFWUTm21G"
      }
    },
    {
      "cell_type": "code",
      "source": [
        "boston = load_boston()\n",
        "boston.keys()\n"
      ],
      "metadata": {
        "colab": {
          "base_uri": "https://localhost:8080/"
        },
        "id": "B3DcafgPNTFd",
        "outputId": "3f457bd4-c8f9-4daf-b24f-aa8a72194721"
      },
      "execution_count": 90,
      "outputs": [
        {
          "output_type": "stream",
          "name": "stderr",
          "text": [
            "/usr/local/lib/python3.8/dist-packages/sklearn/utils/deprecation.py:87: FutureWarning: Function load_boston is deprecated; `load_boston` is deprecated in 1.0 and will be removed in 1.2.\n",
            "\n",
            "    The Boston housing prices dataset has an ethical problem. You can refer to\n",
            "    the documentation of this function for further details.\n",
            "\n",
            "    The scikit-learn maintainers therefore strongly discourage the use of this\n",
            "    dataset unless the purpose of the code is to study and educate about\n",
            "    ethical issues in data science and machine learning.\n",
            "\n",
            "    In this special case, you can fetch the dataset from the original\n",
            "    source::\n",
            "\n",
            "        import pandas as pd\n",
            "        import numpy as np\n",
            "\n",
            "\n",
            "        data_url = \"http://lib.stat.cmu.edu/datasets/boston\"\n",
            "        raw_df = pd.read_csv(data_url, sep=\"\\s+\", skiprows=22, header=None)\n",
            "        data = np.hstack([raw_df.values[::2, :], raw_df.values[1::2, :2]])\n",
            "        target = raw_df.values[1::2, 2]\n",
            "\n",
            "    Alternative datasets include the California housing dataset (i.e.\n",
            "    :func:`~sklearn.datasets.fetch_california_housing`) and the Ames housing\n",
            "    dataset. You can load the datasets as follows::\n",
            "\n",
            "        from sklearn.datasets import fetch_california_housing\n",
            "        housing = fetch_california_housing()\n",
            "\n",
            "    for the California housing dataset and::\n",
            "\n",
            "        from sklearn.datasets import fetch_openml\n",
            "        housing = fetch_openml(name=\"house_prices\", as_frame=True)\n",
            "\n",
            "    for the Ames housing dataset.\n",
            "    \n",
            "  warnings.warn(msg, category=FutureWarning)\n"
          ]
        },
        {
          "output_type": "execute_result",
          "data": {
            "text/plain": [
              "dict_keys(['data', 'target', 'feature_names', 'DESCR', 'filename', 'data_module'])"
            ]
          },
          "metadata": {},
          "execution_count": 90
        }
      ]
    },
    {
      "cell_type": "code",
      "source": [
        "data = boston['data'] # тут хранится двумерный список с данными недвижки\n",
        "target = boston['target'] # тут хранится одномерный список с данными о ценах\n",
        "feature_names = boston[\"feature_names\"]  #названия колонок из массива datа. см. boston.keys()\n",
        "X = pd.DataFrame(data, columns=feature_names)\n",
        "y = pd.DataFrame(target, columns=[\"price\"])\n",
        "\n",
        "X.shape"
      ],
      "metadata": {
        "colab": {
          "base_uri": "https://localhost:8080/"
        },
        "id": "KitVc-1QOGIj",
        "outputId": "2b6f2aa0-8bfa-441a-cc0c-45236b3daaf5"
      },
      "execution_count": 91,
      "outputs": [
        {
          "output_type": "execute_result",
          "data": {
            "text/plain": [
              "(506, 13)"
            ]
          },
          "metadata": {},
          "execution_count": 91
        }
      ]
    },
    {
      "cell_type": "code",
      "source": [
        "X.head(3)"
      ],
      "metadata": {
        "colab": {
          "base_uri": "https://localhost:8080/",
          "height": 143
        },
        "id": "2bnBvWDnWWaq",
        "outputId": "caffea5d-17ed-49c9-e4a4-502a8257a6fa"
      },
      "execution_count": 92,
      "outputs": [
        {
          "output_type": "execute_result",
          "data": {
            "text/plain": [
              "      CRIM    ZN  INDUS  CHAS    NOX     RM   AGE     DIS  RAD    TAX  \\\n",
              "0  0.00632  18.0   2.31   0.0  0.538  6.575  65.2  4.0900  1.0  296.0   \n",
              "1  0.02731   0.0   7.07   0.0  0.469  6.421  78.9  4.9671  2.0  242.0   \n",
              "2  0.02729   0.0   7.07   0.0  0.469  7.185  61.1  4.9671  2.0  242.0   \n",
              "\n",
              "   PTRATIO       B  LSTAT  \n",
              "0     15.3  396.90   4.98  \n",
              "1     17.8  396.90   9.14  \n",
              "2     17.8  392.83   4.03  "
            ],
            "text/html": [
              "\n",
              "  <div id=\"df-29735d9b-4fe0-47ae-a373-0ba71cab8512\">\n",
              "    <div class=\"colab-df-container\">\n",
              "      <div>\n",
              "<style scoped>\n",
              "    .dataframe tbody tr th:only-of-type {\n",
              "        vertical-align: middle;\n",
              "    }\n",
              "\n",
              "    .dataframe tbody tr th {\n",
              "        vertical-align: top;\n",
              "    }\n",
              "\n",
              "    .dataframe thead th {\n",
              "        text-align: right;\n",
              "    }\n",
              "</style>\n",
              "<table border=\"1\" class=\"dataframe\">\n",
              "  <thead>\n",
              "    <tr style=\"text-align: right;\">\n",
              "      <th></th>\n",
              "      <th>CRIM</th>\n",
              "      <th>ZN</th>\n",
              "      <th>INDUS</th>\n",
              "      <th>CHAS</th>\n",
              "      <th>NOX</th>\n",
              "      <th>RM</th>\n",
              "      <th>AGE</th>\n",
              "      <th>DIS</th>\n",
              "      <th>RAD</th>\n",
              "      <th>TAX</th>\n",
              "      <th>PTRATIO</th>\n",
              "      <th>B</th>\n",
              "      <th>LSTAT</th>\n",
              "    </tr>\n",
              "  </thead>\n",
              "  <tbody>\n",
              "    <tr>\n",
              "      <th>0</th>\n",
              "      <td>0.00632</td>\n",
              "      <td>18.0</td>\n",
              "      <td>2.31</td>\n",
              "      <td>0.0</td>\n",
              "      <td>0.538</td>\n",
              "      <td>6.575</td>\n",
              "      <td>65.2</td>\n",
              "      <td>4.0900</td>\n",
              "      <td>1.0</td>\n",
              "      <td>296.0</td>\n",
              "      <td>15.3</td>\n",
              "      <td>396.90</td>\n",
              "      <td>4.98</td>\n",
              "    </tr>\n",
              "    <tr>\n",
              "      <th>1</th>\n",
              "      <td>0.02731</td>\n",
              "      <td>0.0</td>\n",
              "      <td>7.07</td>\n",
              "      <td>0.0</td>\n",
              "      <td>0.469</td>\n",
              "      <td>6.421</td>\n",
              "      <td>78.9</td>\n",
              "      <td>4.9671</td>\n",
              "      <td>2.0</td>\n",
              "      <td>242.0</td>\n",
              "      <td>17.8</td>\n",
              "      <td>396.90</td>\n",
              "      <td>9.14</td>\n",
              "    </tr>\n",
              "    <tr>\n",
              "      <th>2</th>\n",
              "      <td>0.02729</td>\n",
              "      <td>0.0</td>\n",
              "      <td>7.07</td>\n",
              "      <td>0.0</td>\n",
              "      <td>0.469</td>\n",
              "      <td>7.185</td>\n",
              "      <td>61.1</td>\n",
              "      <td>4.9671</td>\n",
              "      <td>2.0</td>\n",
              "      <td>242.0</td>\n",
              "      <td>17.8</td>\n",
              "      <td>392.83</td>\n",
              "      <td>4.03</td>\n",
              "    </tr>\n",
              "  </tbody>\n",
              "</table>\n",
              "</div>\n",
              "      <button class=\"colab-df-convert\" onclick=\"convertToInteractive('df-29735d9b-4fe0-47ae-a373-0ba71cab8512')\"\n",
              "              title=\"Convert this dataframe to an interactive table.\"\n",
              "              style=\"display:none;\">\n",
              "        \n",
              "  <svg xmlns=\"http://www.w3.org/2000/svg\" height=\"24px\"viewBox=\"0 0 24 24\"\n",
              "       width=\"24px\">\n",
              "    <path d=\"M0 0h24v24H0V0z\" fill=\"none\"/>\n",
              "    <path d=\"M18.56 5.44l.94 2.06.94-2.06 2.06-.94-2.06-.94-.94-2.06-.94 2.06-2.06.94zm-11 1L8.5 8.5l.94-2.06 2.06-.94-2.06-.94L8.5 2.5l-.94 2.06-2.06.94zm10 10l.94 2.06.94-2.06 2.06-.94-2.06-.94-.94-2.06-.94 2.06-2.06.94z\"/><path d=\"M17.41 7.96l-1.37-1.37c-.4-.4-.92-.59-1.43-.59-.52 0-1.04.2-1.43.59L10.3 9.45l-7.72 7.72c-.78.78-.78 2.05 0 2.83L4 21.41c.39.39.9.59 1.41.59.51 0 1.02-.2 1.41-.59l7.78-7.78 2.81-2.81c.8-.78.8-2.07 0-2.86zM5.41 20L4 18.59l7.72-7.72 1.47 1.35L5.41 20z\"/>\n",
              "  </svg>\n",
              "      </button>\n",
              "      \n",
              "  <style>\n",
              "    .colab-df-container {\n",
              "      display:flex;\n",
              "      flex-wrap:wrap;\n",
              "      gap: 12px;\n",
              "    }\n",
              "\n",
              "    .colab-df-convert {\n",
              "      background-color: #E8F0FE;\n",
              "      border: none;\n",
              "      border-radius: 50%;\n",
              "      cursor: pointer;\n",
              "      display: none;\n",
              "      fill: #1967D2;\n",
              "      height: 32px;\n",
              "      padding: 0 0 0 0;\n",
              "      width: 32px;\n",
              "    }\n",
              "\n",
              "    .colab-df-convert:hover {\n",
              "      background-color: #E2EBFA;\n",
              "      box-shadow: 0px 1px 2px rgba(60, 64, 67, 0.3), 0px 1px 3px 1px rgba(60, 64, 67, 0.15);\n",
              "      fill: #174EA6;\n",
              "    }\n",
              "\n",
              "    [theme=dark] .colab-df-convert {\n",
              "      background-color: #3B4455;\n",
              "      fill: #D2E3FC;\n",
              "    }\n",
              "\n",
              "    [theme=dark] .colab-df-convert:hover {\n",
              "      background-color: #434B5C;\n",
              "      box-shadow: 0px 1px 3px 1px rgba(0, 0, 0, 0.15);\n",
              "      filter: drop-shadow(0px 1px 2px rgba(0, 0, 0, 0.3));\n",
              "      fill: #FFFFFF;\n",
              "    }\n",
              "  </style>\n",
              "\n",
              "      <script>\n",
              "        const buttonEl =\n",
              "          document.querySelector('#df-29735d9b-4fe0-47ae-a373-0ba71cab8512 button.colab-df-convert');\n",
              "        buttonEl.style.display =\n",
              "          google.colab.kernel.accessAllowed ? 'block' : 'none';\n",
              "\n",
              "        async function convertToInteractive(key) {\n",
              "          const element = document.querySelector('#df-29735d9b-4fe0-47ae-a373-0ba71cab8512');\n",
              "          const dataTable =\n",
              "            await google.colab.kernel.invokeFunction('convertToInteractive',\n",
              "                                                     [key], {});\n",
              "          if (!dataTable) return;\n",
              "\n",
              "          const docLinkHtml = 'Like what you see? Visit the ' +\n",
              "            '<a target=\"_blank\" href=https://colab.research.google.com/notebooks/data_table.ipynb>data table notebook</a>'\n",
              "            + ' to learn more about interactive tables.';\n",
              "          element.innerHTML = '';\n",
              "          dataTable['output_type'] = 'display_data';\n",
              "          await google.colab.output.renderOutput(dataTable, element);\n",
              "          const docLink = document.createElement('div');\n",
              "          docLink.innerHTML = docLinkHtml;\n",
              "          element.appendChild(docLink);\n",
              "        }\n",
              "      </script>\n",
              "    </div>\n",
              "  </div>\n",
              "  "
            ]
          },
          "metadata": {},
          "execution_count": 92
        }
      ]
    },
    {
      "cell_type": "code",
      "source": [
        "X = StandardScaler().fit(X).transform(X)"
      ],
      "metadata": {
        "id": "aGEeu5mbT8A0"
      },
      "execution_count": 93,
      "outputs": []
    },
    {
      "cell_type": "code",
      "source": [
        "from sklearn.model_selection import train_test_split\n",
        "\n",
        "X_train, X_test, y_train, y_test = train_test_split(X, y, test_size = 0.3, random_state=0)"
      ],
      "metadata": {
        "id": "IxTD5S3JW3ci"
      },
      "execution_count": 94,
      "outputs": []
    },
    {
      "cell_type": "markdown",
      "source": [
        "__Пишу цикл для тестирования качества нейросети в зависимости от типа оптимизатора, активационной функции, числа скрытых слоев в сети, числа нейронов в каждом слое:__"
      ],
      "metadata": {
        "id": "vpGTFuFJnJ7E"
      }
    },
    {
      "cell_type": "code",
      "source": [
        "###########################3\n",
        "\n",
        "result = [None, 1000]\n",
        "\n",
        "optimizers = ['Adam']\n",
        "act_function = ['relu', 'sigmoid', 'tanh']\n",
        "layers_num = [1,3,5,10]\n",
        "neuron_num = [8, 32, 64, 128]\n",
        "\n",
        "for opti in optimizers:\n",
        "  for activator in act_function:\n",
        "    for n_layer in layers_num:\n",
        "      for n in neuron_num:\n",
        "\n",
        "        model2 = Sequential()\n",
        "        model2.add(Flatten(input_shape=(13, )))\n",
        "\n",
        "        for i in range(n_layer):\n",
        "          model2.add(Dense(n, activation=activator))\n",
        "\n",
        "        model2.add(Dense(1))\n",
        "\n",
        "        model2.compile(optimizer=opti,\n",
        "              loss='mse',\n",
        "              metrics=['mse'])\n",
        "        \n",
        "        history = model2.fit(X_train, y_train,\n",
        "              epochs=10,\n",
        "              batch_size=5,\n",
        "              validation_data=(X_test, y_test), \n",
        "              verbose=0)\n",
        "        \n",
        "        train_loss, train_m = model2.evaluate(X_train, y_train, verbose=2)\n",
        "        test_loss, train_m = model2.evaluate(X_test, y_test, verbose=2)\n",
        "\n",
        "        if train_loss < result[1]:\n",
        "          result[0] = f'Модель с {n_layer} слоями, {n} неронами в каждом слое, активацией {activator} и оптимизатором {opti} выдает лучшиц результат на тесте: {test_loss}'\n",
        "          result[1] = train_loss\n",
        "\n",
        "\n"
      ],
      "metadata": {
        "colab": {
          "base_uri": "https://localhost:8080/"
        },
        "id": "jyR8G0FtfDpE",
        "outputId": "81d6a3a4-45f0-4362-a34e-5371c5961d88"
      },
      "execution_count": 103,
      "outputs": [
        {
          "output_type": "stream",
          "name": "stdout",
          "text": [
            "12/12 - 0s - loss: 235.7707 - mse: 235.7707 - 29ms/epoch - 2ms/step\n",
            "5/5 - 0s - loss: 243.2383 - mse: 243.2383 - 23ms/epoch - 5ms/step\n",
            "12/12 - 0s - loss: 36.3012 - mse: 36.3012 - 36ms/epoch - 3ms/step\n",
            "5/5 - 0s - loss: 50.9146 - mse: 50.9146 - 26ms/epoch - 5ms/step\n",
            "12/12 - 0s - loss: 23.9228 - mse: 23.9228 - 29ms/epoch - 2ms/step\n",
            "5/5 - 0s - loss: 38.3158 - mse: 38.3158 - 21ms/epoch - 4ms/step\n",
            "12/12 - 0s - loss: 20.1808 - mse: 20.1808 - 30ms/epoch - 2ms/step\n",
            "5/5 - 0s - loss: 33.1470 - mse: 33.1470 - 23ms/epoch - 5ms/step\n",
            "12/12 - 0s - loss: 32.4314 - mse: 32.4314 - 27ms/epoch - 2ms/step\n",
            "5/5 - 0s - loss: 41.6679 - mse: 41.6679 - 22ms/epoch - 4ms/step\n",
            "12/12 - 0s - loss: 11.1702 - mse: 11.1702 - 28ms/epoch - 2ms/step\n",
            "5/5 - 0s - loss: 22.7770 - mse: 22.7770 - 21ms/epoch - 4ms/step\n",
            "12/12 - 0s - loss: 7.4377 - mse: 7.4377 - 35ms/epoch - 3ms/step\n",
            "5/5 - 0s - loss: 17.1835 - mse: 17.1835 - 23ms/epoch - 5ms/step\n",
            "12/12 - 0s - loss: 7.3461 - mse: 7.3461 - 30ms/epoch - 2ms/step\n",
            "5/5 - 0s - loss: 16.8528 - mse: 16.8528 - 21ms/epoch - 4ms/step\n",
            "12/12 - 0s - loss: 22.3390 - mse: 22.3390 - 32ms/epoch - 3ms/step\n",
            "5/5 - 0s - loss: 34.1040 - mse: 34.1040 - 32ms/epoch - 6ms/step\n",
            "12/12 - 0s - loss: 9.3420 - mse: 9.3420 - 33ms/epoch - 3ms/step\n",
            "5/5 - 0s - loss: 19.6903 - mse: 19.6903 - 25ms/epoch - 5ms/step\n",
            "12/12 - 0s - loss: 8.5236 - mse: 8.5236 - 29ms/epoch - 2ms/step\n",
            "5/5 - 0s - loss: 18.4305 - mse: 18.4305 - 22ms/epoch - 4ms/step\n",
            "12/12 - 0s - loss: 7.4285 - mse: 7.4285 - 32ms/epoch - 3ms/step\n",
            "5/5 - 0s - loss: 15.7690 - mse: 15.7690 - 22ms/epoch - 4ms/step\n",
            "12/12 - 0s - loss: 18.0147 - mse: 18.0147 - 46ms/epoch - 4ms/step\n",
            "5/5 - 0s - loss: 30.5217 - mse: 30.5217 - 25ms/epoch - 5ms/step\n",
            "12/12 - 0s - loss: 12.4841 - mse: 12.4841 - 29ms/epoch - 2ms/step\n",
            "5/5 - 0s - loss: 23.1703 - mse: 23.1703 - 22ms/epoch - 4ms/step\n",
            "12/12 - 0s - loss: 11.7042 - mse: 11.7042 - 30ms/epoch - 3ms/step\n",
            "5/5 - 0s - loss: 19.5161 - mse: 19.5161 - 21ms/epoch - 4ms/step\n",
            "12/12 - 0s - loss: 5.6342 - mse: 5.6342 - 32ms/epoch - 3ms/step\n",
            "5/5 - 0s - loss: 14.5031 - mse: 14.5031 - 23ms/epoch - 5ms/step\n",
            "12/12 - 0s - loss: 438.7914 - mse: 438.7914 - 37ms/epoch - 3ms/step\n",
            "5/5 - 0s - loss: 415.3953 - mse: 415.3953 - 25ms/epoch - 5ms/step\n",
            "12/12 - 0s - loss: 125.1799 - mse: 125.1799 - 28ms/epoch - 2ms/step\n",
            "5/5 - 0s - loss: 127.2613 - mse: 127.2613 - 23ms/epoch - 5ms/step\n",
            "12/12 - 0s - loss: 40.7420 - mse: 40.7420 - 28ms/epoch - 2ms/step\n",
            "5/5 - 0s - loss: 49.0913 - mse: 49.0913 - 22ms/epoch - 4ms/step\n",
            "12/12 - 0s - loss: 27.0180 - mse: 27.0180 - 32ms/epoch - 3ms/step\n",
            "5/5 - 0s - loss: 35.8142 - mse: 35.8142 - 22ms/epoch - 4ms/step\n",
            "12/12 - 0s - loss: 390.2585 - mse: 390.2585 - 35ms/epoch - 3ms/step\n",
            "5/5 - 0s - loss: 364.5423 - mse: 364.5423 - 23ms/epoch - 5ms/step\n",
            "12/12 - 0s - loss: 131.8823 - mse: 131.8823 - 37ms/epoch - 3ms/step\n",
            "5/5 - 0s - loss: 121.1588 - mse: 121.1588 - 25ms/epoch - 5ms/step\n",
            "12/12 - 0s - loss: 89.7428 - mse: 89.7428 - 30ms/epoch - 2ms/step\n",
            "5/5 - 0s - loss: 85.3833 - mse: 85.3833 - 22ms/epoch - 4ms/step\n",
            "12/12 - 0s - loss: 46.4057 - mse: 46.4057 - 30ms/epoch - 3ms/step\n",
            "5/5 - 0s - loss: 52.1681 - mse: 52.1681 - 21ms/epoch - 4ms/step\n",
            "12/12 - 0s - loss: 337.5895 - mse: 337.5895 - 31ms/epoch - 3ms/step\n",
            "5/5 - 0s - loss: 314.0778 - mse: 314.0778 - 23ms/epoch - 5ms/step\n",
            "12/12 - 0s - loss: 117.5435 - mse: 117.5435 - 30ms/epoch - 2ms/step\n",
            "5/5 - 0s - loss: 108.4389 - mse: 108.4389 - 21ms/epoch - 4ms/step\n",
            "12/12 - 0s - loss: 86.9504 - mse: 86.9504 - 30ms/epoch - 2ms/step\n",
            "5/5 - 0s - loss: 83.8589 - mse: 83.8589 - 21ms/epoch - 4ms/step\n",
            "12/12 - 0s - loss: 84.7642 - mse: 84.7642 - 30ms/epoch - 2ms/step\n",
            "5/5 - 0s - loss: 83.8099 - mse: 83.8099 - 22ms/epoch - 4ms/step\n",
            "12/12 - 0s - loss: 311.8991 - mse: 311.8991 - 29ms/epoch - 2ms/step\n",
            "5/5 - 0s - loss: 289.5614 - mse: 289.5614 - 21ms/epoch - 4ms/step\n",
            "12/12 - 0s - loss: 138.0993 - mse: 138.0993 - 31ms/epoch - 3ms/step\n",
            "5/5 - 0s - loss: 126.7607 - mse: 126.7607 - 22ms/epoch - 4ms/step\n",
            "12/12 - 0s - loss: 86.5501 - mse: 86.5501 - 31ms/epoch - 3ms/step\n",
            "5/5 - 0s - loss: 83.6603 - mse: 83.6603 - 24ms/epoch - 5ms/step\n",
            "12/12 - 0s - loss: 84.7657 - mse: 84.7657 - 41ms/epoch - 3ms/step\n",
            "5/5 - 0s - loss: 83.8160 - mse: 83.8160 - 22ms/epoch - 4ms/step\n",
            "12/12 - 0s - loss: 383.3059 - mse: 383.3059 - 28ms/epoch - 2ms/step\n",
            "5/5 - 0s - loss: 379.5912 - mse: 379.5912 - 21ms/epoch - 4ms/step\n",
            "12/12 - 0s - loss: 129.9391 - mse: 129.9391 - 37ms/epoch - 3ms/step\n",
            "5/5 - 0s - loss: 142.7698 - mse: 142.7698 - 20ms/epoch - 4ms/step\n",
            "12/12 - 0s - loss: 37.1259 - mse: 37.1259 - 37ms/epoch - 3ms/step\n",
            "5/5 - 0s - loss: 48.0802 - mse: 48.0802 - 21ms/epoch - 4ms/step\n",
            "12/12 - 0s - loss: 22.9951 - mse: 22.9951 - 30ms/epoch - 3ms/step\n",
            "5/5 - 0s - loss: 30.8774 - mse: 30.8774 - 23ms/epoch - 5ms/step\n",
            "12/12 - 0s - loss: 237.9634 - mse: 237.9634 - 28ms/epoch - 2ms/step\n",
            "5/5 - 0s - loss: 220.0937 - mse: 220.0937 - 22ms/epoch - 4ms/step\n",
            "12/12 - 0s - loss: 59.9706 - mse: 59.9706 - 28ms/epoch - 2ms/step\n",
            "5/5 - 0s - loss: 59.1784 - mse: 59.1784 - 21ms/epoch - 4ms/step\n",
            "12/12 - 0s - loss: 32.1857 - mse: 32.1857 - 29ms/epoch - 2ms/step\n",
            "5/5 - 0s - loss: 35.8053 - mse: 35.8053 - 21ms/epoch - 4ms/step\n",
            "12/12 - 0s - loss: 14.8934 - mse: 14.8934 - 30ms/epoch - 2ms/step\n",
            "5/5 - 0s - loss: 21.4822 - mse: 21.4822 - 21ms/epoch - 4ms/step\n",
            "12/12 - 0s - loss: 253.4463 - mse: 253.4463 - 28ms/epoch - 2ms/step\n",
            "5/5 - 0s - loss: 234.0558 - mse: 234.0558 - 20ms/epoch - 4ms/step\n",
            "12/12 - 0s - loss: 71.6581 - mse: 71.6581 - 42ms/epoch - 4ms/step\n",
            "5/5 - 0s - loss: 69.0654 - mse: 69.0654 - 28ms/epoch - 6ms/step\n",
            "12/12 - 0s - loss: 25.2463 - mse: 25.2463 - 36ms/epoch - 3ms/step\n",
            "5/5 - 0s - loss: 30.4795 - mse: 30.4795 - 22ms/epoch - 4ms/step\n",
            "12/12 - 0s - loss: 13.7342 - mse: 13.7342 - 36ms/epoch - 3ms/step\n",
            "5/5 - 0s - loss: 18.1699 - mse: 18.1699 - 27ms/epoch - 5ms/step\n",
            "12/12 - 0s - loss: 270.7890 - mse: 270.7890 - 28ms/epoch - 2ms/step\n",
            "5/5 - 0s - loss: 250.4797 - mse: 250.4797 - 23ms/epoch - 5ms/step\n",
            "12/12 - 0s - loss: 88.6475 - mse: 88.6475 - 34ms/epoch - 3ms/step\n",
            "5/5 - 0s - loss: 84.8581 - mse: 84.8581 - 24ms/epoch - 5ms/step\n",
            "12/12 - 0s - loss: 36.4123 - mse: 36.4123 - 35ms/epoch - 3ms/step\n",
            "5/5 - 0s - loss: 41.8347 - mse: 41.8347 - 29ms/epoch - 6ms/step\n",
            "12/12 - 0s - loss: 29.0319 - mse: 29.0319 - 32ms/epoch - 3ms/step\n",
            "5/5 - 0s - loss: 37.9071 - mse: 37.9071 - 23ms/epoch - 5ms/step\n"
          ]
        }
      ]
    },
    {
      "cell_type": "code",
      "source": [
        "result"
      ],
      "metadata": {
        "colab": {
          "base_uri": "https://localhost:8080/"
        },
        "id": "K7hVnDbbje3U",
        "outputId": "1cb9fce6-923b-4f84-9b04-8543b48cbc3f"
      },
      "execution_count": 104,
      "outputs": [
        {
          "output_type": "execute_result",
          "data": {
            "text/plain": [
              "['Модель с 10 слоями, 128 неронами в каждом слое, активацией relu и оптимизатором Adam выдает лучшиц результат на тесте: 14.5031156539917',\n",
              " 5.634233474731445]"
            ]
          },
          "metadata": {},
          "execution_count": 104
        }
      ]
    },
    {
      "cell_type": "markdown",
      "source": [
        "Соберу эту финальную модель ручным способом:"
      ],
      "metadata": {
        "id": "zoMxSkYijqJH"
      }
    },
    {
      "cell_type": "code",
      "source": [
        "inputs = Input(shape=(13,)) # задаем размерность поступающих данных из X.shape\n",
        "x_1 = Flatten()(inputs)\n",
        "x_2 = Dense(128, activation='relu')(x_1)\n",
        "x_3 = Dense(128, activation='relu')(x_2)\n",
        "x_4 = Dense(128, activation='relu')(x_3)\n",
        "x_5 = Dense(128, activation='relu')(x_4)\n",
        "x_6 = Dense(128, activation='relu')(x_5)\n",
        "x_7 = Dense(128, activation='relu')(x_6)\n",
        "x_8 = Dense(128, activation='relu')(x_7)\n",
        "x_9 = Dense(128, activation='relu')(x_8)\n",
        "x_10 = Dense(128, activation='relu')(x_9)\n",
        "x_11 = Dense(128, activation='relu')(x_10)\n",
        "outputs = Dense(1)(x_11)                         # не понял почему тут 1 и только один аргумент\n",
        "\n",
        "model = Model(inputs, outputs)\n",
        "\n",
        "model.compile(optimizer='Adam',\n",
        "              loss='mse',\n",
        "              metrics=['mse'])\n",
        "\n",
        "#model.summary()\n",
        "\n",
        "history = model.fit(X_train, y_train,\n",
        "              epochs=10,\n",
        "              batch_size=5,\n",
        "              validation_data=(X_test, y_test), \n",
        "              verbose=0)\n",
        "\n",
        "train_loss, train_m = model.evaluate(X_train, y_train, verbose=2)\n",
        "test_loss, test_m = model.evaluate(X_test, y_test, verbose=2)\n",
        "train_loss, test_loss"
      ],
      "metadata": {
        "colab": {
          "base_uri": "https://localhost:8080/"
        },
        "id": "x48-rZE1UZ7c",
        "outputId": "05fda376-8f0b-4b44-ffa7-47c1a7b4fa04"
      },
      "execution_count": 106,
      "outputs": [
        {
          "output_type": "stream",
          "name": "stdout",
          "text": [
            "12/12 - 0s - loss: 4.7353 - mse: 4.7353 - 33ms/epoch - 3ms/step\n",
            "5/5 - 0s - loss: 14.8090 - mse: 14.8090 - 24ms/epoch - 5ms/step\n"
          ]
        },
        {
          "output_type": "execute_result",
          "data": {
            "text/plain": [
              "(4.735265254974365, 14.808952331542969)"
            ]
          },
          "metadata": {},
          "execution_count": 106
        }
      ]
    },
    {
      "cell_type": "markdown",
      "source": [
        "Соберем финальную модель другим способом:"
      ],
      "metadata": {
        "id": "m63J5a6ikgoJ"
      }
    },
    {
      "cell_type": "code",
      "source": [
        "model_03 = Sequential([\n",
        "    Flatten(input_shape=(13, )), \n",
        "    Dense(128, activation='relu'),\n",
        "    Dense(128, activation='relu'),\n",
        "    Dense(128, activation='relu'),\n",
        "    Dense(128, activation='relu'),\n",
        "    Dense(128, activation='relu'),\n",
        "    Dense(128, activation='relu'),\n",
        "    Dense(128, activation='relu'),\n",
        "    Dense(128, activation='relu'),\n",
        "    Dense(128, activation='relu'),\n",
        "    Dense(128, activation='relu'),\n",
        "    Dense(1)\n",
        "])\n",
        "\n",
        "model_03.compile(optimizer='Adam',\n",
        "               loss='mse',\n",
        "               metrics=['mse'])\n",
        "\n",
        "history = model_03.fit(X_train, y_train,\n",
        "              epochs=10,\n",
        "              batch_size=5,\n",
        "              validation_data=(X_test, y_test), \n",
        "              verbose=0)\n",
        "\n",
        "train_loss, train_m = model_03.evaluate(X_train, y_train, verbose=2)\n",
        "test_loss, test_m = model_03.evaluate(X_test, y_test, verbose=2)\n",
        "train_loss, test_loss"
      ],
      "metadata": {
        "colab": {
          "base_uri": "https://localhost:8080/"
        },
        "id": "33ZJsJDWYACv",
        "outputId": "ae8fe224-7c54-437c-9eea-f6b1718a1644"
      },
      "execution_count": 107,
      "outputs": [
        {
          "output_type": "stream",
          "name": "stdout",
          "text": [
            "12/12 - 0s - loss: 3.9896 - mse: 3.9896 - 34ms/epoch - 3ms/step\n",
            "5/5 - 0s - loss: 13.5117 - mse: 13.5117 - 25ms/epoch - 5ms/step\n"
          ]
        },
        {
          "output_type": "execute_result",
          "data": {
            "text/plain": [
              "(3.989556074142456, 13.51174259185791)"
            ]
          },
          "metadata": {},
          "execution_count": 107
        }
      ]
    },
    {
      "cell_type": "markdown",
      "source": [
        "Здесь мсе на тесте даже лучше.\n",
        "\n",
        "Ну и посмотрим совпадут ли значения мсе из цикла лучшей модели и этой:"
      ],
      "metadata": {
        "id": "yJBZMSq2lM-x"
      }
    },
    {
      "cell_type": "code",
      "source": [
        "model4 = Sequential()\n",
        "\n",
        "model4.add(Flatten(input_shape=(13, )))\n",
        "\n",
        "model4.add(Dense(128, activation='relu'))\n",
        "model4.add(Dense(128, activation='relu'))\n",
        "model4.add(Dense(128, activation='relu'))\n",
        "model4.add(Dense(128, activation='relu'))\n",
        "model4.add(Dense(128, activation='relu'))\n",
        "model4.add(Dense(128, activation='relu'))\n",
        "model4.add(Dense(128, activation='relu'))\n",
        "model4.add(Dense(128, activation='relu'))\n",
        "model4.add(Dense(128, activation='relu'))\n",
        "model4.add(Dense(128, activation='relu'))\n",
        "\n",
        "model4.add(Dense(1))\n",
        "\n",
        "model4.compile(optimizer='Adam',\n",
        "               loss='mse',\n",
        "               metrics=['mse'])\n",
        "\n",
        "history4 = model4.fit(X_train, y_train,\n",
        "              epochs=10,\n",
        "              batch_size=5,\n",
        "              validation_data=(X_test, y_test), \n",
        "              verbose=0)\n",
        "\n",
        "train_loss, train_m = model4.evaluate(X_train, y_train, verbose=2)\n",
        "test_loss, test_m = model4.evaluate(X_test, y_test, verbose=2)\n",
        "train_loss, test_loss\n"
      ],
      "metadata": {
        "colab": {
          "base_uri": "https://localhost:8080/"
        },
        "id": "8KKxlV_Ula6D",
        "outputId": "6261f1e2-ad80-476c-d0d3-5064d5abc7e9"
      },
      "execution_count": 109,
      "outputs": [
        {
          "output_type": "stream",
          "name": "stdout",
          "text": [
            "12/12 - 0s - loss: 4.8398 - mse: 4.8398 - 34ms/epoch - 3ms/step\n",
            "5/5 - 0s - loss: 13.7261 - mse: 13.7261 - 24ms/epoch - 5ms/step\n"
          ]
        },
        {
          "output_type": "execute_result",
          "data": {
            "text/plain": [
              "(4.839778423309326, 13.726066589355469)"
            ]
          },
          "metadata": {},
          "execution_count": 109
        }
      ]
    }
  ]
}