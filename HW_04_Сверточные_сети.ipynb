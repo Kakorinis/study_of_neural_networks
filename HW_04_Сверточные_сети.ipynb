{
  "nbformat": 4,
  "nbformat_minor": 0,
  "metadata": {
    "colab": {
      "provenance": []
    },
    "kernelspec": {
      "name": "python3",
      "display_name": "Python 3"
    },
    "language_info": {
      "name": "python"
    }
  },
  "cells": [
    {
      "cell_type": "markdown",
      "source": [
        "__Домашнее задание:__<br>\n",
        "обучить рукописную сверточную нейронную сеть (с падением размера ядра свертки и последовательностью блоков свертка-пулинг (conv-pool)-(conv-pool)-...) на датасете cifar-10<br>\n",
        "оценить рост точности при увеличении ширины сети (больше фильтров)\n",
        "оценить рост точности при увеличении глубины сети (больше слоев)\n",
        "*сравнить с точностью полносвязной сети для этой выборки\n",
        "\n",
        "<br>\n",
        "\n",
        "Рекомендации по оформлению кода:\n",
        "исправляя код из ноутбука, указывайте, пожалуйста, где были сделаны изменения, чтобы было легче ориентироваться в коде, к тому же это повысит скорость проверки работы."
      ],
      "metadata": {
        "id": "z3hgRe7Kyhsr"
      }
    },
    {
      "cell_type": "markdown",
      "source": [
        "__Решение:__\n",
        "\n",
        "Загружаю библиотеки"
      ],
      "metadata": {
        "id": "7gHTS64cC_QF"
      }
    },
    {
      "cell_type": "code",
      "source": [
        "import numpy as np\n",
        "import pandas as pd\n",
        "import matplotlib.pyplot as plt\n",
        "\n",
        "import tensorflow.keras as keras\n",
        "from tensorflow.keras import models, layers\n",
        "\n",
        "from tensorflow.keras.datasets import cifar10\n",
        "from tensorflow.keras.preprocessing.image import ImageDataGenerator\n",
        "from tensorflow.keras.utils import to_categorical\n",
        "\n",
        "from tensorflow.keras.models import Model \n",
        "\n",
        "from tensorflow.keras.models import Sequential\n",
        "from tensorflow.keras.layers import Dense, Dropout, Activation, Flatten\n",
        "from tensorflow.keras.layers import Conv2D, MaxPooling2D, AveragePooling2D\n",
        "\n"
      ],
      "metadata": {
        "id": "RduC4fVJzI-D"
      },
      "execution_count": 52,
      "outputs": []
    },
    {
      "cell_type": "markdown",
      "source": [
        "Загружаю картинки и рабиваю на трейн и тест:"
      ],
      "metadata": {
        "id": "6FJVC7rODZRk"
      }
    },
    {
      "cell_type": "code",
      "source": [
        "\n",
        "# разделение тренировочной и тестовой выборки\n",
        "(X_train, y_train), (X_test, y_test) = cifar10.load_data()\n",
        "print('X_train shape:', X_train.shape)\n",
        "print(X_train.shape[0], 'тренировочные примеры')\n",
        "print(X_test.shape[0], 'тестовые примеры')\n",
        "\n",
        "classes = ['самолет', 'автомобиль', 'птица', 'кот', 'олень', 'собака', 'лягушка', 'лошадь', 'корабль', 'грузовик']"
      ],
      "metadata": {
        "colab": {
          "base_uri": "https://localhost:8080/"
        },
        "id": "y0wwIpAyypzw",
        "outputId": "220e70d3-21f4-4def-cd46-54e36fffcee5"
      },
      "execution_count": 43,
      "outputs": [
        {
          "output_type": "stream",
          "name": "stdout",
          "text": [
            "X_train shape: (50000, 32, 32, 3)\n",
            "50000 тренировочные примеры\n",
            "10000 тестовые примеры\n"
          ]
        }
      ]
    },
    {
      "cell_type": "code",
      "source": [
        "# смотрю диапазон значений в данных, т.к. они не объединены, проверяю и в тесте и в трейне\n",
        "X_train.min(), X_train.max(), X_test.min(), X_test.max()"
      ],
      "metadata": {
        "colab": {
          "base_uri": "https://localhost:8080/"
        },
        "id": "zRFIqrwQEafT",
        "outputId": "38b1147e-d1e2-40d7-fd3b-076caa75aae0"
      },
      "execution_count": 44,
      "outputs": [
        {
          "output_type": "execute_result",
          "data": {
            "text/plain": [
              "(0, 255, 0, 255)"
            ]
          },
          "metadata": {},
          "execution_count": 44
        }
      ]
    },
    {
      "cell_type": "code",
      "source": [
        "# перевожу таргеты в виде чисел в векторное выражение\n",
        "num_classes = 10\n",
        "y_train = to_categorical(y_train, num_classes)\n",
        "y_test = to_categorical(y_test, num_classes)\n",
        "\n",
        "# нормирую данные с учетом увиденных выше макс. значений\n",
        "X_train = X_train / 255.0\n",
        "X_test = X_test / 255.0"
      ],
      "metadata": {
        "id": "4bSQRwS6zcer"
      },
      "execution_count": 45,
      "outputs": []
    },
    {
      "cell_type": "markdown",
      "source": [
        "К примеру возьмем 101-ое изображение и посмотрим что за картинки:"
      ],
      "metadata": {
        "id": "2Ccy-1q6FNzb"
      }
    },
    {
      "cell_type": "code",
      "source": [
        "N = 101\n",
        "\n",
        "plt.imshow(X_test[N])\n",
        "plt.title(classes[np.argmax(y_test[N,:])])\n",
        "plt.xlabel(f'img.shape: {X_test[N].shape}', fontsize=14)\n",
        "plt.show()"
      ],
      "metadata": {
        "colab": {
          "base_uri": "https://localhost:8080/",
          "height": 299
        },
        "id": "lDNwenuizlch",
        "outputId": "be9af9f7-2c69-4037-ffad-d69cb1675279"
      },
      "execution_count": 46,
      "outputs": [
        {
          "output_type": "display_data",
          "data": {
            "text/plain": [
              "<Figure size 432x288 with 1 Axes>"
            ],
            "image/png": "[encoded data removed]"
          },
          "metadata": {
            "needs_background": "light"
          }
        }
      ]
    },
    {
      "cell_type": "markdown",
      "source": [
        "Видим картинку 32х32.\n",
        "\n",
        "__Приступаю к написанию нейросети:__ возьму 3 сверточных слоя и после каждого из них будет пулинговый, далее 2 полносвязных слоя"
      ],
      "metadata": {
        "id": "6rYH4MhhFbqd"
      }
    },
    {
      "cell_type": "code",
      "source": [
        "model = Sequential([\n",
        "    # сверточные и пуллинговые слои - 3 шт.\n",
        "    Conv2D(2, (4, 4), padding='same', input_shape=(32, 32, 3)),  # input_shape берем из X_train.shape[1:], ядро берем размером 4х4\n",
        "    AveragePooling2D(pool_size=(2, 2), strides=(1, 1), padding='same'),  # padding - обрабатываю края картинки (доп. контурный пискельный ряд по периметру), pool_size 2х2 матрица\n",
        "    Conv2D(5, (3, 3), padding='same'),  \n",
        "    AveragePooling2D(pool_size=(2, 2), strides=(2, 2), padding='same'), # strides здесь уже будем не каждый подряд пискель ядром 2х2 просматривать, а перепрыгивать ч-з 1\n",
        "    Conv2D(9, (3, 3), padding='same'),\n",
        "    AveragePooling2D(pool_size=(2, 2), strides=(1, 1), padding='same'),\n",
        "\n",
        "    Flatten(),\n",
        "\n",
        "    # 2 полносвязных слоя               # полносвязных нужно делать более 1 слоя, чтобы уходить от линейной зависимости\n",
        "    Dense(120, activation='relu'),\n",
        "    Dense(80, activation='relu'),\n",
        "\n",
        "    # выходной слой\n",
        "    Dense(10, activation='softmax')\n",
        "    ])  \n",
        "\n",
        "# компиляция модели\n",
        "model.compile(loss=keras.losses.categorical_crossentropy,\n",
        "              optimizer='Adam',\n",
        "              metrics=[\"accuracy\"])\n",
        "\n",
        "\n",
        "hist = model.fit(X_train, y_train,\n",
        "                 epochs=2,\n",
        "                 batch_size=1000,\n",
        "                 validation_data=(X_test, y_test),\n",
        "                 verbose=1)\n",
        "#model.summary()"
      ],
      "metadata": {
        "colab": {
          "base_uri": "https://localhost:8080/"
        },
        "id": "-OpX4qwn1D-4",
        "outputId": "62846d04-1659-4c35-fa7d-a1b50747dcd1"
      },
      "execution_count": 47,
      "outputs": [
        {
          "output_type": "stream",
          "name": "stdout",
          "text": [
            "Epoch 1/2\n",
            "50/50 [==============================] - 64s 1s/step - loss: 2.0906 - accuracy: 0.2410 - val_loss: 1.9232 - val_accuracy: 0.3065\n",
            "Epoch 2/2\n",
            "50/50 [==============================] - 62s 1s/step - loss: 1.8423 - accuracy: 0.3466 - val_loss: 1.7814 - val_accuracy: 0.3706\n"
          ]
        }
      ]
    },
    {
      "cell_type": "markdown",
      "source": [
        "Ради эксперимента попробую применить к модели аугментацию и посмотреть на итог:"
      ],
      "metadata": {
        "id": "pNMwyxH7FzNe"
      }
    },
    {
      "cell_type": "code",
      "source": [
        "print('То же самое, но с использованием data augmentation')\n",
        "\n",
        "datagen = ImageDataGenerator(\n",
        "    featurewise_center=False,\n",
        "    samplewise_center=False,\n",
        "    featurewise_std_normalization=False,\n",
        "    samplewise_std_normalization=False,\n",
        "    zca_whitening=False, \n",
        "    zca_epsilon=1e-06, \n",
        "    rotation_range=10, \n",
        "    width_shift_range=0.1,\n",
        "    height_shift_range=0.1,\n",
        "    shear_range=0., \n",
        "    zoom_range=0.2, \n",
        "    channel_shift_range=0.,\n",
        "    fill_mode='nearest',\n",
        "    cval=0.,\n",
        "    horizontal_flip=True,\n",
        "    vertical_flip=False,\n",
        "    rescale=None,\n",
        "    preprocessing_function=None,\n",
        "    data_format=None,\n",
        "    validation_split=0.0)\n",
        "\n",
        "\n",
        "train_gen = datagen.flow(X_train, \n",
        "                          y_train,\n",
        "                          batch_size=1000)\n",
        "\n",
        "# запуск data augmentation через fit_generator\n",
        "model.fit(train_gen,\n",
        "          epochs=2,\n",
        "          validation_data=(X_test, y_test),\n",
        "          verbose=1)"
      ],
      "metadata": {
        "colab": {
          "base_uri": "https://localhost:8080/"
        },
        "id": "2m58TO6UCLe-",
        "outputId": "d1ad4daa-085c-40b3-a1a7-2c4b38575a6e"
      },
      "execution_count": 48,
      "outputs": [
        {
          "output_type": "stream",
          "name": "stdout",
          "text": [
            "То же самое, но с использованием data augmentation\n",
            "Epoch 1/2\n",
            "50/50 [==============================] - 81s 2s/step - loss: 1.8025 - accuracy: 0.3583 - val_loss: 1.6806 - val_accuracy: 0.4109\n",
            "Epoch 2/2\n",
            "50/50 [==============================] - 72s 1s/step - loss: 1.7325 - accuracy: 0.3816 - val_loss: 1.6236 - val_accuracy: 0.4259\n"
          ]
        },
        {
          "output_type": "execute_result",
          "data": {
            "text/plain": [
              "<keras.callbacks.History at 0x7f0eca94bf10>"
            ]
          },
          "metadata": {},
          "execution_count": 48
        }
      ]
    },
    {
      "cell_type": "code",
      "source": [
        "model.summary()"
      ],
      "metadata": {
        "colab": {
          "base_uri": "https://localhost:8080/"
        },
        "id": "lEdn0r6E-J8B",
        "outputId": "452be645-7d6b-4770-b520-99dd6397123c"
      },
      "execution_count": 49,
      "outputs": [
        {
          "output_type": "stream",
          "name": "stdout",
          "text": [
            "Model: \"sequential_10\"\n",
            "_________________________________________________________________\n",
            " Layer (type)                Output Shape              Param #   \n",
            "=================================================================\n",
            " conv2d_30 (Conv2D)          (None, 32, 32, 2)         98        \n",
            "                                                                 \n",
            " average_pooling2d_30 (Avera  (None, 32, 32, 2)        0         \n",
            " gePooling2D)                                                    \n",
            "                                                                 \n",
            " conv2d_31 (Conv2D)          (None, 32, 32, 5)         95        \n",
            "                                                                 \n",
            " average_pooling2d_31 (Avera  (None, 16, 16, 5)        0         \n",
            " gePooling2D)                                                    \n",
            "                                                                 \n",
            " conv2d_32 (Conv2D)          (None, 16, 16, 9)         414       \n",
            "                                                                 \n",
            " average_pooling2d_32 (Avera  (None, 16, 16, 9)        0         \n",
            " gePooling2D)                                                    \n",
            "                                                                 \n",
            " flatten_8 (Flatten)         (None, 2304)              0         \n",
            "                                                                 \n",
            " dense_24 (Dense)            (None, 120)               276600    \n",
            "                                                                 \n",
            " dense_25 (Dense)            (None, 80)                9680      \n",
            "                                                                 \n",
            " dense_26 (Dense)            (None, 10)                810       \n",
            "                                                                 \n",
            "=================================================================\n",
            "Total params: 287,697\n",
            "Trainable params: 287,697\n",
            "Non-trainable params: 0\n",
            "_________________________________________________________________\n"
          ]
        }
      ]
    },
    {
      "cell_type": "markdown",
      "source": [
        "Итак, возьму model как за базовую сеть и далее буду результаты сравнивать с ней.<br>\n",
        "model генерирует 287 697 признака и accuracy: 0.3466\n",
        "\n",
        "__На основе базовой модели напишу модель с увеличенной шириной сети (больше фильтров):__"
      ],
      "metadata": {
        "id": "kUmkh86aGE4v"
      }
    },
    {
      "cell_type": "code",
      "source": [
        "# практики ради буду использовать др. способ написания сети (ручной)\n",
        "\n",
        "# инициализация  модели\n",
        "input = layers.Input(shape=(32, 32, 3))\n",
        "\n",
        "# первый сверточный слой\n",
        "x1 = layers.Conv2D(6, (4, 4), strides=(1, 1),     # меняю кол-во входных карт(фильтров) с 3 на 6\n",
        "                   activation='relu',\n",
        "                   padding=\"same\")(input)\n",
        "\n",
        "# первый пуллинговый слой\n",
        "x2 = layers.AveragePooling2D(pool_size=(2, 2),\n",
        "                             strides=(1, 1),\n",
        "                             padding='same')(x1)\n",
        "\n",
        "# второй сверточный слой\n",
        "x3 = layers.Conv2D(8, (3, 3), strides=(2, 2),    # меняю кол-во входных карт(фильтров) с 5 на 8\n",
        "                   activation='relu',\n",
        "                   padding='same')(x2)\n",
        "\n",
        "# второй пуллинговый слой\n",
        "x4 = layers.AveragePooling2D(pool_size=(2, 2),\n",
        "                             strides=(2, 2),\n",
        "                             padding='same')(x3)\n",
        "\n",
        "# третий сверточный слой\n",
        "x5 = layers.Conv2D(9, (3, 3), strides=(1, 1),   # оставлю д т.к. итак должна получиться широкая сеть - увидим в summary()\n",
        "                   activation='relu',\n",
        "                   padding='valid')(x4)\n",
        "\n",
        "# третий пуллинговый слой\n",
        "x6 = layers.AveragePooling2D(pool_size=(2, 2),\n",
        "                             strides=(1, 1),\n",
        "                             padding='same')(x5)\n",
        "\n",
        "\n",
        "\n",
        "# сглаживание CNN выхода чтобы можно было его присоединить к полносвязногому слою\n",
        "x7 = layers.Flatten()(x6)\n",
        "\n",
        "# полносвязный слой                              \n",
        "x8 = layers.Dense(120, activation='tanh')(x7)\n",
        "# полносвязный слой\n",
        "x9 = layers.Dense(80, activation='tanh')(x8)\n",
        "\n",
        "# выходной слой с функцией активации softmax\n",
        "out_x = layers.Dense(10, activation='softmax')(x9)\n",
        "\n",
        "\n",
        "# Соберем полную модель сети от входа к выходу \n",
        "model_wider = Model(inputs=input, outputs=out_x)\n",
        "\n",
        "# сделаем несколько промежуточных выходов (через них посмотрим, что происходит в сети) \n",
        "model_1_layer = Model(inputs=input, outputs=x1)\n",
        "model_3_layer = Model(inputs=input, outputs=x3)\n",
        "\n",
        "model_wider.summary()"
      ],
      "metadata": {
        "colab": {
          "base_uri": "https://localhost:8080/"
        },
        "id": "W2vAh6BJ7DC0",
        "outputId": "1a0448d6-caca-4f82-9503-d270f4e19756"
      },
      "execution_count": 53,
      "outputs": [
        {
          "output_type": "stream",
          "name": "stdout",
          "text": [
            "Model: \"model\"\n",
            "_________________________________________________________________\n",
            " Layer (type)                Output Shape              Param #   \n",
            "=================================================================\n",
            " input_1 (InputLayer)        [(None, 32, 32, 3)]       0         \n",
            "                                                                 \n",
            " conv2d_33 (Conv2D)          (None, 32, 32, 6)         294       \n",
            "                                                                 \n",
            " average_pooling2d_33 (Avera  (None, 32, 32, 6)        0         \n",
            " gePooling2D)                                                    \n",
            "                                                                 \n",
            " conv2d_34 (Conv2D)          (None, 16, 16, 8)         440       \n",
            "                                                                 \n",
            " average_pooling2d_34 (Avera  (None, 8, 8, 8)          0         \n",
            " gePooling2D)                                                    \n",
            "                                                                 \n",
            " conv2d_35 (Conv2D)          (None, 6, 6, 9)           657       \n",
            "                                                                 \n",
            " average_pooling2d_35 (Avera  (None, 6, 6, 9)          0         \n",
            " gePooling2D)                                                    \n",
            "                                                                 \n",
            " flatten_9 (Flatten)         (None, 324)               0         \n",
            "                                                                 \n",
            " dense_27 (Dense)            (None, 120)               39000     \n",
            "                                                                 \n",
            " dense_28 (Dense)            (None, 80)                9680      \n",
            "                                                                 \n",
            " dense_29 (Dense)            (None, 10)                810       \n",
            "                                                                 \n",
            "=================================================================\n",
            "Total params: 50,881\n",
            "Trainable params: 50,881\n",
            "Non-trainable params: 0\n",
            "_________________________________________________________________\n"
          ]
        }
      ]
    },
    {
      "cell_type": "markdown",
      "source": [
        "Итак, более широкая модель генерирует 50 881 признаков, что заметно меньше признаков чем первая - 287 697. <br>\n",
        "\n",
        "Также более широкая модель на третьем  сверточном слое имеет меньшую размерность - 6х6\n",
        "\n",
        "Посмотрим на ее точность предсказания:"
      ],
      "metadata": {
        "id": "M-WL3zxOLzTn"
      }
    },
    {
      "cell_type": "code",
      "source": [
        "# компиляция модели\n",
        "model_wider.compile(loss=keras.losses.categorical_crossentropy,\n",
        "              optimizer='Adam',\n",
        "              metrics=[\"accuracy\"])\n",
        "\n",
        "\n",
        "hist = model_wider.fit(X_train, y_train,\n",
        "                 epochs=2,\n",
        "                 batch_size=1000,\n",
        "                 validation_data=(X_test, y_test),\n",
        "                 verbose=1)"
      ],
      "metadata": {
        "colab": {
          "base_uri": "https://localhost:8080/"
        },
        "id": "2mZ0JkAqMKAC",
        "outputId": "e16427cd-9bd8-4740-e933-6474b148d80f"
      },
      "execution_count": 54,
      "outputs": [
        {
          "output_type": "stream",
          "name": "stdout",
          "text": [
            "Epoch 1/2\n",
            "50/50 [==============================] - 34s 678ms/step - loss: 2.1020 - accuracy: 0.2298 - val_loss: 1.8986 - val_accuracy: 0.3318\n",
            "Epoch 2/2\n",
            "50/50 [==============================] - 33s 661ms/step - loss: 1.8141 - accuracy: 0.3480 - val_loss: 1.7333 - val_accuracy: 0.3817\n"
          ]
        }
      ]
    },
    {
      "cell_type": "markdown",
      "source": [
        "Можно сказать что ширина не повлияла на точность предсказания.\n",
        "\n",
        "__Теперь попробую на основе базовой модели увеличить глубину сети (больше слоев) и сравнить итог:__"
      ],
      "metadata": {
        "id": "C7Uvl6L3M_D9"
      }
    },
    {
      "cell_type": "code",
      "source": [
        "model_deeper = Sequential([\n",
        "    # сверточные и пуллинговые слои - вместо 3 сверточных сделаю 6, булинговые оставлю как есть 3 шт.\n",
        "    Conv2D(2, (4, 4), padding='same', input_shape=(32, 32, 3)),\n",
        "    Conv2D(2, (3, 3), padding='same'),                                       # доп. сверточ. слой №1\n",
        "    AveragePooling2D(pool_size=(2, 2), strides=(1, 1), padding='same'),  \n",
        "    Conv2D(5, (3, 3), padding='same'),\n",
        "    Conv2D(5, (3, 3), padding='same'),                                       # доп. сверточ. слой №2\n",
        "    AveragePooling2D(pool_size=(2, 2), strides=(2, 2), padding='same'), \n",
        "    Conv2D(9, (3, 3), padding='same'),\n",
        "    Conv2D(9, (3, 3), padding='same'),                                      # доп. сверточ. слой №3\n",
        "    AveragePooling2D(pool_size=(2, 2), strides=(1, 1), padding='same'),\n",
        "\n",
        "    Flatten(),\n",
        "\n",
        "    # 2 полносвязных слоя               # полносвязные не буду менять, т.к. задача в том, чтобы тестить сверточные слои\n",
        "    Dense(120, activation='relu'),\n",
        "    Dense(80, activation='relu'),\n",
        "\n",
        "    # выходной слой\n",
        "    Dense(10, activation='softmax')\n",
        "    ])  \n",
        "\n",
        "# компиляция модели\n",
        "model_deeper.compile(loss=keras.losses.categorical_crossentropy,\n",
        "              optimizer='Adam',\n",
        "              metrics=[\"accuracy\"])\n",
        "\n",
        "\n",
        "hist = model_deeper.fit(X_train, y_train,\n",
        "                 epochs=2,\n",
        "                 batch_size=1000,\n",
        "                 validation_data=(X_test, y_test),\n",
        "                 verbose=1)\n",
        "\n",
        "model_deeper.summary()"
      ],
      "metadata": {
        "colab": {
          "base_uri": "https://localhost:8080/"
        },
        "id": "Hm80YVYqNTCT",
        "outputId": "52ab6cd3-53c7-4166-e5f2-a795281a8e08"
      },
      "execution_count": 55,
      "outputs": [
        {
          "output_type": "stream",
          "name": "stdout",
          "text": [
            "Epoch 1/2\n",
            "50/50 [==============================] - 106s 2s/step - loss: 2.0036 - accuracy: 0.2835 - val_loss: 1.7894 - val_accuracy: 0.3636\n",
            "Epoch 2/2\n",
            "50/50 [==============================] - 103s 2s/step - loss: 1.6949 - accuracy: 0.3990 - val_loss: 1.6365 - val_accuracy: 0.4156\n",
            "Model: \"sequential_11\"\n",
            "_________________________________________________________________\n",
            " Layer (type)                Output Shape              Param #   \n",
            "=================================================================\n",
            " conv2d_36 (Conv2D)          (None, 32, 32, 2)         98        \n",
            "                                                                 \n",
            " conv2d_37 (Conv2D)          (None, 32, 32, 2)         38        \n",
            "                                                                 \n",
            " average_pooling2d_36 (Avera  (None, 32, 32, 2)        0         \n",
            " gePooling2D)                                                    \n",
            "                                                                 \n",
            " conv2d_38 (Conv2D)          (None, 32, 32, 5)         95        \n",
            "                                                                 \n",
            " conv2d_39 (Conv2D)          (None, 32, 32, 5)         230       \n",
            "                                                                 \n",
            " average_pooling2d_37 (Avera  (None, 16, 16, 5)        0         \n",
            " gePooling2D)                                                    \n",
            "                                                                 \n",
            " conv2d_40 (Conv2D)          (None, 16, 16, 9)         414       \n",
            "                                                                 \n",
            " conv2d_41 (Conv2D)          (None, 16, 16, 9)         738       \n",
            "                                                                 \n",
            " average_pooling2d_38 (Avera  (None, 16, 16, 9)        0         \n",
            " gePooling2D)                                                    \n",
            "                                                                 \n",
            " flatten_10 (Flatten)        (None, 2304)              0         \n",
            "                                                                 \n",
            " dense_30 (Dense)            (None, 120)               276600    \n",
            "                                                                 \n",
            " dense_31 (Dense)            (None, 80)                9680      \n",
            "                                                                 \n",
            " dense_32 (Dense)            (None, 10)                810       \n",
            "                                                                 \n",
            "=================================================================\n",
            "Total params: 288,703\n",
            "Trainable params: 288,703\n",
            "Non-trainable params: 0\n",
            "_________________________________________________________________\n"
          ]
        }
      ]
    },
    {
      "cell_type": "markdown",
      "source": [
        "__Вывод:__ базовая и более широкая модель выдали accuracy: 0.34 в то время как более глубокая модель показывает результат лучше: 0.39 и при этом кол-во признаков у нее сопоставимо с кол-вом у базовой модели. Вероятно эффективнее строить более глубокие, а не широкие сети."
      ],
      "metadata": {
        "id": "8D_nPKVuHKvV"
      }
    },
    {
      "cell_type": "code",
      "source": [
        "# ради любопытства посмотрим как более глубокая модель отработает с аугментацией\n",
        "\n",
        "model_deeper.fit(train_gen,\n",
        "          epochs=2,\n",
        "          validation_data=(X_test, y_test),\n",
        "          verbose=1)"
      ],
      "metadata": {
        "colab": {
          "base_uri": "https://localhost:8080/"
        },
        "id": "72G05i9WRB8k",
        "outputId": "27a3d853-e1cd-483e-8520-ea37e51c9ef9"
      },
      "execution_count": 56,
      "outputs": [
        {
          "output_type": "stream",
          "name": "stdout",
          "text": [
            "Epoch 1/2\n",
            "50/50 [==============================] - 123s 2s/step - loss: 1.6968 - accuracy: 0.3958 - val_loss: 1.5478 - val_accuracy: 0.4566\n",
            "Epoch 2/2\n",
            "50/50 [==============================] - 115s 2s/step - loss: 1.6358 - accuracy: 0.4186 - val_loss: 1.5234 - val_accuracy: 0.4621\n"
          ]
        },
        {
          "output_type": "execute_result",
          "data": {
            "text/plain": [
              "<keras.callbacks.History at 0x7f0ecc05adf0>"
            ]
          },
          "metadata": {},
          "execution_count": 56
        }
      ]
    },
    {
      "cell_type": "markdown",
      "source": [
        "Базовая модель показывала accuracy 0.38, здесь же видим 0.41\n",
        "\n",
        "__Из идей что еще добавить в модел:__ Dropout и BatchNormalization"
      ],
      "metadata": {
        "id": "T8_J-NBRPsu1"
      }
    },
    {
      "cell_type": "code",
      "source": [
        "# from keras.layers import Dropout\n",
        "# Dropout(rate=0.5)\n",
        "\n",
        "\n",
        "# from keras.layers import BatchNormalization\n",
        "# Sequential([\n",
        "#     BatchNormalization(input_shape=(8, 8, 2))\n",
        "# ]).summary()"
      ],
      "metadata": {
        "id": "xJPQd2jlDbKa"
      },
      "execution_count": 57,
      "outputs": []
    }
  ]
}